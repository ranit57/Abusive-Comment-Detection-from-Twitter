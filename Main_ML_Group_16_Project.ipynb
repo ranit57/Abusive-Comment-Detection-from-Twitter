{
  "cells": [
    {
      "cell_type": "code",
      "execution_count": 1,
      "metadata": {
        "id": "4c1d75c7",
        "colab": {
          "base_uri": "https://localhost:8080/"
        },
        "outputId": "b1aabcf6-ae47-4e5f-d264-96bed1a8d0fb"
      },
      "outputs": [
        {
          "output_type": "stream",
          "name": "stdout",
          "text": [
            "Looking in indexes: https://pypi.org/simple, https://us-python.pkg.dev/colab-wheels/public/simple/\n",
            "Requirement already satisfied: tweepy in /usr/local/lib/python3.8/dist-packages (3.10.0)\n",
            "Requirement already satisfied: six>=1.10.0 in /usr/local/lib/python3.8/dist-packages (from tweepy) (1.15.0)\n",
            "Requirement already satisfied: requests-oauthlib>=0.7.0 in /usr/local/lib/python3.8/dist-packages (from tweepy) (1.3.1)\n",
            "Requirement already satisfied: requests[socks]>=2.11.1 in /usr/local/lib/python3.8/dist-packages (from tweepy) (2.23.0)\n",
            "Requirement already satisfied: oauthlib>=3.0.0 in /usr/local/lib/python3.8/dist-packages (from requests-oauthlib>=0.7.0->tweepy) (3.2.2)\n",
            "Requirement already satisfied: chardet<4,>=3.0.2 in /usr/local/lib/python3.8/dist-packages (from requests[socks]>=2.11.1->tweepy) (3.0.4)\n",
            "Requirement already satisfied: certifi>=2017.4.17 in /usr/local/lib/python3.8/dist-packages (from requests[socks]>=2.11.1->tweepy) (2022.9.24)\n",
            "Requirement already satisfied: idna<3,>=2.5 in /usr/local/lib/python3.8/dist-packages (from requests[socks]>=2.11.1->tweepy) (2.10)\n",
            "Requirement already satisfied: urllib3!=1.25.0,!=1.25.1,<1.26,>=1.21.1 in /usr/local/lib/python3.8/dist-packages (from requests[socks]>=2.11.1->tweepy) (1.24.3)\n",
            "Requirement already satisfied: PySocks!=1.5.7,>=1.5.6 in /usr/local/lib/python3.8/dist-packages (from requests[socks]>=2.11.1->tweepy) (1.7.1)\n"
          ]
        }
      ],
      "source": [
        "!pip install tweepy"
      ],
      "id": "4c1d75c7"
    },
    {
      "cell_type": "code",
      "execution_count": 2,
      "metadata": {
        "id": "02bf8de1",
        "colab": {
          "base_uri": "https://localhost:8080/"
        },
        "outputId": "17467f20-51e7-48b2-c260-34227d6729c4"
      },
      "outputs": [
        {
          "output_type": "stream",
          "name": "stdout",
          "text": [
            "Looking in indexes: https://pypi.org/simple, https://us-python.pkg.dev/colab-wheels/public/simple/\n",
            "Requirement already satisfied: geocoder in /usr/local/lib/python3.8/dist-packages (1.38.1)\n",
            "Requirement already satisfied: ratelim in /usr/local/lib/python3.8/dist-packages (from geocoder) (0.1.6)\n",
            "Requirement already satisfied: click in /usr/local/lib/python3.8/dist-packages (from geocoder) (7.1.2)\n",
            "Requirement already satisfied: requests in /usr/local/lib/python3.8/dist-packages (from geocoder) (2.23.0)\n",
            "Requirement already satisfied: six in /usr/local/lib/python3.8/dist-packages (from geocoder) (1.15.0)\n",
            "Requirement already satisfied: future in /usr/local/lib/python3.8/dist-packages (from geocoder) (0.16.0)\n",
            "Requirement already satisfied: decorator in /usr/local/lib/python3.8/dist-packages (from ratelim->geocoder) (4.4.2)\n",
            "Requirement already satisfied: idna<3,>=2.5 in /usr/local/lib/python3.8/dist-packages (from requests->geocoder) (2.10)\n",
            "Requirement already satisfied: urllib3!=1.25.0,!=1.25.1,<1.26,>=1.21.1 in /usr/local/lib/python3.8/dist-packages (from requests->geocoder) (1.24.3)\n",
            "Requirement already satisfied: certifi>=2017.4.17 in /usr/local/lib/python3.8/dist-packages (from requests->geocoder) (2022.9.24)\n",
            "Requirement already satisfied: chardet<4,>=3.0.2 in /usr/local/lib/python3.8/dist-packages (from requests->geocoder) (3.0.4)\n"
          ]
        }
      ],
      "source": [
        "!pip install geocoder"
      ],
      "id": "02bf8de1"
    },
    {
      "cell_type": "code",
      "source": [
        "! pip install pyspellchecker"
      ],
      "metadata": {
        "id": "suslDq1jRyWO",
        "colab": {
          "base_uri": "https://localhost:8080/"
        },
        "outputId": "5ad01294-23e0-4683-935a-9a19205d94b6"
      },
      "id": "suslDq1jRyWO",
      "execution_count": 3,
      "outputs": [
        {
          "output_type": "stream",
          "name": "stdout",
          "text": [
            "Looking in indexes: https://pypi.org/simple, https://us-python.pkg.dev/colab-wheels/public/simple/\n",
            "Requirement already satisfied: pyspellchecker in /usr/local/lib/python3.8/dist-packages (0.7.1)\n"
          ]
        }
      ]
    },
    {
      "cell_type": "code",
      "execution_count": 4,
      "metadata": {
        "id": "9b5558fc",
        "colab": {
          "base_uri": "https://localhost:8080/"
        },
        "outputId": "4544a0f9-0b9b-41fb-c02a-cfd8f02fd7a9"
      },
      "outputs": [
        {
          "output_type": "stream",
          "name": "stderr",
          "text": [
            "[nltk_data] Downloading package punkt to /root/nltk_data...\n",
            "[nltk_data]   Package punkt is already up-to-date!\n",
            "[nltk_data] Downloading package stopwords to /root/nltk_data...\n",
            "[nltk_data]   Package stopwords is already up-to-date!\n",
            "[nltk_data] Downloading package averaged_perceptron_tagger to\n",
            "[nltk_data]     /root/nltk_data...\n",
            "[nltk_data]   Package averaged_perceptron_tagger is already up-to-\n",
            "[nltk_data]       date!\n",
            "[nltk_data] Downloading package wordnet to /root/nltk_data...\n",
            "[nltk_data]   Package wordnet is already up-to-date!\n",
            "[nltk_data] Downloading package omw-1.4 to /root/nltk_data...\n",
            "[nltk_data]   Package omw-1.4 is already up-to-date!\n"
          ]
        }
      ],
      "source": [
        "# Importing necessary libraries\n",
        "import pandas as pd\n",
        "import warnings\n",
        "import requests\n",
        "import tweepy\n",
        "import geocoder\n",
        "warnings.filterwarnings('ignore')\n",
        "import seaborn as sns\n",
        "from sklearn.naive_bayes import MultinomialNB\n",
        "import matplotlib.pyplot as plt\n",
        "from sklearn.tree import DecisionTreeClassifier\n",
        "from sklearn.model_selection import train_test_split \n",
        "from sklearn.preprocessing import  StandardScaler \n",
        "from sklearn import metrics as mt\n",
        "from spellchecker import SpellChecker \n",
        "import nltk\n",
        "nltk.download('punkt')\n",
        "from nltk import word_tokenize\n",
        "nltk.download('stopwords')\n",
        "from nltk.corpus import stopwords\n",
        "from nltk.tokenize import RegexpTokenizer\n",
        "from nltk import FreqDist\n",
        "from nltk.stem import WordNetLemmatizer\n",
        "from nltk import word_tokenize, pos_tag\n",
        "nltk.download('averaged_perceptron_tagger')\n",
        "nltk.download('wordnet')\n",
        "nltk.download('omw-1.4')\n",
        "from sklearn.model_selection import GridSearchCV\n",
        "import re\n",
        "from sklearn.linear_model import LogisticRegression\n",
        "from sklearn.feature_extraction.text import CountVectorizer\n",
        "from sklearn.model_selection import GridSearchCV\n",
        "from sklearn.ensemble import RandomForestClassifier\n",
        "from sklearn.svm import SVC\n",
        "from sklearn.ensemble import VotingClassifier\n",
        "#from sklearn.datasets import make_classification"
      ],
      "id": "9b5558fc"
    },
    {
      "cell_type": "code",
      "execution_count": 5,
      "metadata": {
        "colab": {
          "base_uri": "https://localhost:8080/",
          "height": 206
        },
        "id": "5394d0b1",
        "outputId": "baa2e08e-a019-45ae-ff95-593a20847f49"
      },
      "outputs": [
        {
          "output_type": "execute_result",
          "data": {
            "text/plain": [
              "   Unnamed: 0  count  hate_speech  offensive_language  neither  class  \\\n",
              "0           0      3            0                   0        3      2   \n",
              "1           1      3            0                   3        0      1   \n",
              "2           2      3            0                   3        0      1   \n",
              "3           3      3            0                   2        1      1   \n",
              "4           4      6            0                   6        0      1   \n",
              "\n",
              "                                               tweet  \n",
              "0  !!! RT @mayasolovely: As a woman you shouldn't...  \n",
              "1  !!!!! RT @mleew17: boy dats cold...tyga dwn ba...  \n",
              "2  !!!!!!! RT @UrKindOfBrand Dawg!!!! RT @80sbaby...  \n",
              "3  !!!!!!!!! RT @C_G_Anderson: @viva_based she lo...  \n",
              "4  !!!!!!!!!!!!! RT @ShenikaRoberts: The shit you...  "
            ],
            "text/html": [
              "\n",
              "  <div id=\"df-ac1d8ed2-425c-4a58-a178-5c34ab0bb955\">\n",
              "    <div class=\"colab-df-container\">\n",
              "      <div>\n",
              "<style scoped>\n",
              "    .dataframe tbody tr th:only-of-type {\n",
              "        vertical-align: middle;\n",
              "    }\n",
              "\n",
              "    .dataframe tbody tr th {\n",
              "        vertical-align: top;\n",
              "    }\n",
              "\n",
              "    .dataframe thead th {\n",
              "        text-align: right;\n",
              "    }\n",
              "</style>\n",
              "<table border=\"1\" class=\"dataframe\">\n",
              "  <thead>\n",
              "    <tr style=\"text-align: right;\">\n",
              "      <th></th>\n",
              "      <th>Unnamed: 0</th>\n",
              "      <th>count</th>\n",
              "      <th>hate_speech</th>\n",
              "      <th>offensive_language</th>\n",
              "      <th>neither</th>\n",
              "      <th>class</th>\n",
              "      <th>tweet</th>\n",
              "    </tr>\n",
              "  </thead>\n",
              "  <tbody>\n",
              "    <tr>\n",
              "      <th>0</th>\n",
              "      <td>0</td>\n",
              "      <td>3</td>\n",
              "      <td>0</td>\n",
              "      <td>0</td>\n",
              "      <td>3</td>\n",
              "      <td>2</td>\n",
              "      <td>!!! RT @mayasolovely: As a woman you shouldn't...</td>\n",
              "    </tr>\n",
              "    <tr>\n",
              "      <th>1</th>\n",
              "      <td>1</td>\n",
              "      <td>3</td>\n",
              "      <td>0</td>\n",
              "      <td>3</td>\n",
              "      <td>0</td>\n",
              "      <td>1</td>\n",
              "      <td>!!!!! RT @mleew17: boy dats cold...tyga dwn ba...</td>\n",
              "    </tr>\n",
              "    <tr>\n",
              "      <th>2</th>\n",
              "      <td>2</td>\n",
              "      <td>3</td>\n",
              "      <td>0</td>\n",
              "      <td>3</td>\n",
              "      <td>0</td>\n",
              "      <td>1</td>\n",
              "      <td>!!!!!!! RT @UrKindOfBrand Dawg!!!! RT @80sbaby...</td>\n",
              "    </tr>\n",
              "    <tr>\n",
              "      <th>3</th>\n",
              "      <td>3</td>\n",
              "      <td>3</td>\n",
              "      <td>0</td>\n",
              "      <td>2</td>\n",
              "      <td>1</td>\n",
              "      <td>1</td>\n",
              "      <td>!!!!!!!!! RT @C_G_Anderson: @viva_based she lo...</td>\n",
              "    </tr>\n",
              "    <tr>\n",
              "      <th>4</th>\n",
              "      <td>4</td>\n",
              "      <td>6</td>\n",
              "      <td>0</td>\n",
              "      <td>6</td>\n",
              "      <td>0</td>\n",
              "      <td>1</td>\n",
              "      <td>!!!!!!!!!!!!! RT @ShenikaRoberts: The shit you...</td>\n",
              "    </tr>\n",
              "  </tbody>\n",
              "</table>\n",
              "</div>\n",
              "      <button class=\"colab-df-convert\" onclick=\"convertToInteractive('df-ac1d8ed2-425c-4a58-a178-5c34ab0bb955')\"\n",
              "              title=\"Convert this dataframe to an interactive table.\"\n",
              "              style=\"display:none;\">\n",
              "        \n",
              "  <svg xmlns=\"http://www.w3.org/2000/svg\" height=\"24px\"viewBox=\"0 0 24 24\"\n",
              "       width=\"24px\">\n",
              "    <path d=\"M0 0h24v24H0V0z\" fill=\"none\"/>\n",
              "    <path d=\"M18.56 5.44l.94 2.06.94-2.06 2.06-.94-2.06-.94-.94-2.06-.94 2.06-2.06.94zm-11 1L8.5 8.5l.94-2.06 2.06-.94-2.06-.94L8.5 2.5l-.94 2.06-2.06.94zm10 10l.94 2.06.94-2.06 2.06-.94-2.06-.94-.94-2.06-.94 2.06-2.06.94z\"/><path d=\"M17.41 7.96l-1.37-1.37c-.4-.4-.92-.59-1.43-.59-.52 0-1.04.2-1.43.59L10.3 9.45l-7.72 7.72c-.78.78-.78 2.05 0 2.83L4 21.41c.39.39.9.59 1.41.59.51 0 1.02-.2 1.41-.59l7.78-7.78 2.81-2.81c.8-.78.8-2.07 0-2.86zM5.41 20L4 18.59l7.72-7.72 1.47 1.35L5.41 20z\"/>\n",
              "  </svg>\n",
              "      </button>\n",
              "      \n",
              "  <style>\n",
              "    .colab-df-container {\n",
              "      display:flex;\n",
              "      flex-wrap:wrap;\n",
              "      gap: 12px;\n",
              "    }\n",
              "\n",
              "    .colab-df-convert {\n",
              "      background-color: #E8F0FE;\n",
              "      border: none;\n",
              "      border-radius: 50%;\n",
              "      cursor: pointer;\n",
              "      display: none;\n",
              "      fill: #1967D2;\n",
              "      height: 32px;\n",
              "      padding: 0 0 0 0;\n",
              "      width: 32px;\n",
              "    }\n",
              "\n",
              "    .colab-df-convert:hover {\n",
              "      background-color: #E2EBFA;\n",
              "      box-shadow: 0px 1px 2px rgba(60, 64, 67, 0.3), 0px 1px 3px 1px rgba(60, 64, 67, 0.15);\n",
              "      fill: #174EA6;\n",
              "    }\n",
              "\n",
              "    [theme=dark] .colab-df-convert {\n",
              "      background-color: #3B4455;\n",
              "      fill: #D2E3FC;\n",
              "    }\n",
              "\n",
              "    [theme=dark] .colab-df-convert:hover {\n",
              "      background-color: #434B5C;\n",
              "      box-shadow: 0px 1px 3px 1px rgba(0, 0, 0, 0.15);\n",
              "      filter: drop-shadow(0px 1px 2px rgba(0, 0, 0, 0.3));\n",
              "      fill: #FFFFFF;\n",
              "    }\n",
              "  </style>\n",
              "\n",
              "      <script>\n",
              "        const buttonEl =\n",
              "          document.querySelector('#df-ac1d8ed2-425c-4a58-a178-5c34ab0bb955 button.colab-df-convert');\n",
              "        buttonEl.style.display =\n",
              "          google.colab.kernel.accessAllowed ? 'block' : 'none';\n",
              "\n",
              "        async function convertToInteractive(key) {\n",
              "          const element = document.querySelector('#df-ac1d8ed2-425c-4a58-a178-5c34ab0bb955');\n",
              "          const dataTable =\n",
              "            await google.colab.kernel.invokeFunction('convertToInteractive',\n",
              "                                                     [key], {});\n",
              "          if (!dataTable) return;\n",
              "\n",
              "          const docLinkHtml = 'Like what you see? Visit the ' +\n",
              "            '<a target=\"_blank\" href=https://colab.research.google.com/notebooks/data_table.ipynb>data table notebook</a>'\n",
              "            + ' to learn more about interactive tables.';\n",
              "          element.innerHTML = '';\n",
              "          dataTable['output_type'] = 'display_data';\n",
              "          await google.colab.output.renderOutput(dataTable, element);\n",
              "          const docLink = document.createElement('div');\n",
              "          docLink.innerHTML = docLinkHtml;\n",
              "          element.appendChild(docLink);\n",
              "        }\n",
              "      </script>\n",
              "    </div>\n",
              "  </div>\n",
              "  "
            ]
          },
          "metadata": {},
          "execution_count": 5
        }
      ],
      "source": [
        "# Loading the training dataset\n",
        "data = pd.read_csv(\"labeled_data.csv\", on_bad_lines='skip')\n",
        "data.head()"
      ],
      "id": "5394d0b1"
    },
    {
      "cell_type": "code",
      "execution_count": 6,
      "metadata": {
        "colab": {
          "base_uri": "https://localhost:8080/"
        },
        "id": "lVnQEDV-OkQi",
        "outputId": "d080d556-bfcf-4c99-c70a-d927838cc43c"
      },
      "outputs": [
        {
          "output_type": "execute_result",
          "data": {
            "text/plain": [
              "(24783, 7)"
            ]
          },
          "metadata": {},
          "execution_count": 6
        }
      ],
      "source": [
        "data.shape"
      ],
      "id": "lVnQEDV-OkQi"
    },
    {
      "cell_type": "code",
      "execution_count": 7,
      "metadata": {
        "colab": {
          "base_uri": "https://localhost:8080/"
        },
        "id": "9ecc76a2",
        "outputId": "71b12d0c-4be1-4f2f-9947-a0c0ae8a6148"
      },
      "outputs": [
        {
          "output_type": "execute_result",
          "data": {
            "text/plain": [
              "Unnamed: 0            0\n",
              "count                 0\n",
              "hate_speech           0\n",
              "offensive_language    0\n",
              "neither               0\n",
              "class                 0\n",
              "tweet                 0\n",
              "dtype: int64"
            ]
          },
          "metadata": {},
          "execution_count": 7
        }
      ],
      "source": [
        "# Checking whether we have any null values or not in our dataset\n",
        "data.isna().sum()"
      ],
      "id": "9ecc76a2"
    },
    {
      "cell_type": "markdown",
      "source": [
        "**Data Pre-processing**"
      ],
      "metadata": {
        "id": "F-AY7YdTkc-r"
      },
      "id": "F-AY7YdTkc-r"
    },
    {
      "cell_type": "code",
      "execution_count": 8,
      "metadata": {
        "colab": {
          "base_uri": "https://localhost:8080/",
          "height": 206
        },
        "id": "3d046f64",
        "outputId": "f0411155-6686-4561-de0b-a5c329daeeb1"
      },
      "outputs": [
        {
          "output_type": "execute_result",
          "data": {
            "text/plain": [
              "   class                                              tweet\n",
              "0      2  !!! RT @mayasolovely: As a woman you shouldn't...\n",
              "1      1  !!!!! RT @mleew17: boy dats cold...tyga dwn ba...\n",
              "2      1  !!!!!!! RT @UrKindOfBrand Dawg!!!! RT @80sbaby...\n",
              "3      1  !!!!!!!!! RT @C_G_Anderson: @viva_based she lo...\n",
              "4      1  !!!!!!!!!!!!! RT @ShenikaRoberts: The shit you..."
            ],
            "text/html": [
              "\n",
              "  <div id=\"df-0c1a201d-5574-46f2-8c4a-0518cf07d042\">\n",
              "    <div class=\"colab-df-container\">\n",
              "      <div>\n",
              "<style scoped>\n",
              "    .dataframe tbody tr th:only-of-type {\n",
              "        vertical-align: middle;\n",
              "    }\n",
              "\n",
              "    .dataframe tbody tr th {\n",
              "        vertical-align: top;\n",
              "    }\n",
              "\n",
              "    .dataframe thead th {\n",
              "        text-align: right;\n",
              "    }\n",
              "</style>\n",
              "<table border=\"1\" class=\"dataframe\">\n",
              "  <thead>\n",
              "    <tr style=\"text-align: right;\">\n",
              "      <th></th>\n",
              "      <th>class</th>\n",
              "      <th>tweet</th>\n",
              "    </tr>\n",
              "  </thead>\n",
              "  <tbody>\n",
              "    <tr>\n",
              "      <th>0</th>\n",
              "      <td>2</td>\n",
              "      <td>!!! RT @mayasolovely: As a woman you shouldn't...</td>\n",
              "    </tr>\n",
              "    <tr>\n",
              "      <th>1</th>\n",
              "      <td>1</td>\n",
              "      <td>!!!!! RT @mleew17: boy dats cold...tyga dwn ba...</td>\n",
              "    </tr>\n",
              "    <tr>\n",
              "      <th>2</th>\n",
              "      <td>1</td>\n",
              "      <td>!!!!!!! RT @UrKindOfBrand Dawg!!!! RT @80sbaby...</td>\n",
              "    </tr>\n",
              "    <tr>\n",
              "      <th>3</th>\n",
              "      <td>1</td>\n",
              "      <td>!!!!!!!!! RT @C_G_Anderson: @viva_based she lo...</td>\n",
              "    </tr>\n",
              "    <tr>\n",
              "      <th>4</th>\n",
              "      <td>1</td>\n",
              "      <td>!!!!!!!!!!!!! RT @ShenikaRoberts: The shit you...</td>\n",
              "    </tr>\n",
              "  </tbody>\n",
              "</table>\n",
              "</div>\n",
              "      <button class=\"colab-df-convert\" onclick=\"convertToInteractive('df-0c1a201d-5574-46f2-8c4a-0518cf07d042')\"\n",
              "              title=\"Convert this dataframe to an interactive table.\"\n",
              "              style=\"display:none;\">\n",
              "        \n",
              "  <svg xmlns=\"http://www.w3.org/2000/svg\" height=\"24px\"viewBox=\"0 0 24 24\"\n",
              "       width=\"24px\">\n",
              "    <path d=\"M0 0h24v24H0V0z\" fill=\"none\"/>\n",
              "    <path d=\"M18.56 5.44l.94 2.06.94-2.06 2.06-.94-2.06-.94-.94-2.06-.94 2.06-2.06.94zm-11 1L8.5 8.5l.94-2.06 2.06-.94-2.06-.94L8.5 2.5l-.94 2.06-2.06.94zm10 10l.94 2.06.94-2.06 2.06-.94-2.06-.94-.94-2.06-.94 2.06-2.06.94z\"/><path d=\"M17.41 7.96l-1.37-1.37c-.4-.4-.92-.59-1.43-.59-.52 0-1.04.2-1.43.59L10.3 9.45l-7.72 7.72c-.78.78-.78 2.05 0 2.83L4 21.41c.39.39.9.59 1.41.59.51 0 1.02-.2 1.41-.59l7.78-7.78 2.81-2.81c.8-.78.8-2.07 0-2.86zM5.41 20L4 18.59l7.72-7.72 1.47 1.35L5.41 20z\"/>\n",
              "  </svg>\n",
              "      </button>\n",
              "      \n",
              "  <style>\n",
              "    .colab-df-container {\n",
              "      display:flex;\n",
              "      flex-wrap:wrap;\n",
              "      gap: 12px;\n",
              "    }\n",
              "\n",
              "    .colab-df-convert {\n",
              "      background-color: #E8F0FE;\n",
              "      border: none;\n",
              "      border-radius: 50%;\n",
              "      cursor: pointer;\n",
              "      display: none;\n",
              "      fill: #1967D2;\n",
              "      height: 32px;\n",
              "      padding: 0 0 0 0;\n",
              "      width: 32px;\n",
              "    }\n",
              "\n",
              "    .colab-df-convert:hover {\n",
              "      background-color: #E2EBFA;\n",
              "      box-shadow: 0px 1px 2px rgba(60, 64, 67, 0.3), 0px 1px 3px 1px rgba(60, 64, 67, 0.15);\n",
              "      fill: #174EA6;\n",
              "    }\n",
              "\n",
              "    [theme=dark] .colab-df-convert {\n",
              "      background-color: #3B4455;\n",
              "      fill: #D2E3FC;\n",
              "    }\n",
              "\n",
              "    [theme=dark] .colab-df-convert:hover {\n",
              "      background-color: #434B5C;\n",
              "      box-shadow: 0px 1px 3px 1px rgba(0, 0, 0, 0.15);\n",
              "      filter: drop-shadow(0px 1px 2px rgba(0, 0, 0, 0.3));\n",
              "      fill: #FFFFFF;\n",
              "    }\n",
              "  </style>\n",
              "\n",
              "      <script>\n",
              "        const buttonEl =\n",
              "          document.querySelector('#df-0c1a201d-5574-46f2-8c4a-0518cf07d042 button.colab-df-convert');\n",
              "        buttonEl.style.display =\n",
              "          google.colab.kernel.accessAllowed ? 'block' : 'none';\n",
              "\n",
              "        async function convertToInteractive(key) {\n",
              "          const element = document.querySelector('#df-0c1a201d-5574-46f2-8c4a-0518cf07d042');\n",
              "          const dataTable =\n",
              "            await google.colab.kernel.invokeFunction('convertToInteractive',\n",
              "                                                     [key], {});\n",
              "          if (!dataTable) return;\n",
              "\n",
              "          const docLinkHtml = 'Like what you see? Visit the ' +\n",
              "            '<a target=\"_blank\" href=https://colab.research.google.com/notebooks/data_table.ipynb>data table notebook</a>'\n",
              "            + ' to learn more about interactive tables.';\n",
              "          element.innerHTML = '';\n",
              "          dataTable['output_type'] = 'display_data';\n",
              "          await google.colab.output.renderOutput(dataTable, element);\n",
              "          const docLink = document.createElement('div');\n",
              "          docLink.innerHTML = docLinkHtml;\n",
              "          element.appendChild(docLink);\n",
              "        }\n",
              "      </script>\n",
              "    </div>\n",
              "  </div>\n",
              "  "
            ]
          },
          "metadata": {},
          "execution_count": 8
        }
      ],
      "source": [
        "# Dropping the non-essential features\n",
        "data.drop(data.columns[[0,1,2,3,4]], axis=1, inplace=True)\n",
        "data.head()"
      ],
      "id": "3d046f64"
    },
    {
      "cell_type": "code",
      "execution_count": 9,
      "metadata": {
        "id": "bcSH7972vE3J"
      },
      "outputs": [],
      "source": [
        "# Removing rows with hate speech labelling\n",
        "data = data[data['class'] != 0]"
      ],
      "id": "bcSH7972vE3J"
    },
    {
      "cell_type": "code",
      "execution_count": 10,
      "metadata": {
        "colab": {
          "base_uri": "https://localhost:8080/"
        },
        "id": "L2ZbTnH6O9Sr",
        "outputId": "269adcd0-d116-4479-efc6-0ca416cd70d9"
      },
      "outputs": [
        {
          "output_type": "execute_result",
          "data": {
            "text/plain": [
              "(23353, 2)"
            ]
          },
          "metadata": {},
          "execution_count": 10
        }
      ],
      "source": [
        "data.shape"
      ],
      "id": "L2ZbTnH6O9Sr"
    },
    {
      "cell_type": "code",
      "execution_count": 11,
      "metadata": {
        "id": "6f2571f3",
        "colab": {
          "base_uri": "https://localhost:8080/",
          "height": 206
        },
        "outputId": "58114cd6-77ce-420a-d4c9-9dece3e99260"
      },
      "outputs": [
        {
          "output_type": "execute_result",
          "data": {
            "text/plain": [
              "                                               tweet  label\n",
              "0  !!! RT @mayasolovely: As a woman you shouldn't...    0.0\n",
              "1  !!!!! RT @mleew17: boy dats cold...tyga dwn ba...    1.0\n",
              "2  !!!!!!! RT @UrKindOfBrand Dawg!!!! RT @80sbaby...    1.0\n",
              "3  !!!!!!!!! RT @C_G_Anderson: @viva_based she lo...    1.0\n",
              "4  !!!!!!!!!!!!! RT @ShenikaRoberts: The shit you...    1.0"
            ],
            "text/html": [
              "\n",
              "  <div id=\"df-1aa6af95-7aaf-4faf-84d1-3480f9707d26\">\n",
              "    <div class=\"colab-df-container\">\n",
              "      <div>\n",
              "<style scoped>\n",
              "    .dataframe tbody tr th:only-of-type {\n",
              "        vertical-align: middle;\n",
              "    }\n",
              "\n",
              "    .dataframe tbody tr th {\n",
              "        vertical-align: top;\n",
              "    }\n",
              "\n",
              "    .dataframe thead th {\n",
              "        text-align: right;\n",
              "    }\n",
              "</style>\n",
              "<table border=\"1\" class=\"dataframe\">\n",
              "  <thead>\n",
              "    <tr style=\"text-align: right;\">\n",
              "      <th></th>\n",
              "      <th>tweet</th>\n",
              "      <th>label</th>\n",
              "    </tr>\n",
              "  </thead>\n",
              "  <tbody>\n",
              "    <tr>\n",
              "      <th>0</th>\n",
              "      <td>!!! RT @mayasolovely: As a woman you shouldn't...</td>\n",
              "      <td>0.0</td>\n",
              "    </tr>\n",
              "    <tr>\n",
              "      <th>1</th>\n",
              "      <td>!!!!! RT @mleew17: boy dats cold...tyga dwn ba...</td>\n",
              "      <td>1.0</td>\n",
              "    </tr>\n",
              "    <tr>\n",
              "      <th>2</th>\n",
              "      <td>!!!!!!! RT @UrKindOfBrand Dawg!!!! RT @80sbaby...</td>\n",
              "      <td>1.0</td>\n",
              "    </tr>\n",
              "    <tr>\n",
              "      <th>3</th>\n",
              "      <td>!!!!!!!!! RT @C_G_Anderson: @viva_based she lo...</td>\n",
              "      <td>1.0</td>\n",
              "    </tr>\n",
              "    <tr>\n",
              "      <th>4</th>\n",
              "      <td>!!!!!!!!!!!!! RT @ShenikaRoberts: The shit you...</td>\n",
              "      <td>1.0</td>\n",
              "    </tr>\n",
              "  </tbody>\n",
              "</table>\n",
              "</div>\n",
              "      <button class=\"colab-df-convert\" onclick=\"convertToInteractive('df-1aa6af95-7aaf-4faf-84d1-3480f9707d26')\"\n",
              "              title=\"Convert this dataframe to an interactive table.\"\n",
              "              style=\"display:none;\">\n",
              "        \n",
              "  <svg xmlns=\"http://www.w3.org/2000/svg\" height=\"24px\"viewBox=\"0 0 24 24\"\n",
              "       width=\"24px\">\n",
              "    <path d=\"M0 0h24v24H0V0z\" fill=\"none\"/>\n",
              "    <path d=\"M18.56 5.44l.94 2.06.94-2.06 2.06-.94-2.06-.94-.94-2.06-.94 2.06-2.06.94zm-11 1L8.5 8.5l.94-2.06 2.06-.94-2.06-.94L8.5 2.5l-.94 2.06-2.06.94zm10 10l.94 2.06.94-2.06 2.06-.94-2.06-.94-.94-2.06-.94 2.06-2.06.94z\"/><path d=\"M17.41 7.96l-1.37-1.37c-.4-.4-.92-.59-1.43-.59-.52 0-1.04.2-1.43.59L10.3 9.45l-7.72 7.72c-.78.78-.78 2.05 0 2.83L4 21.41c.39.39.9.59 1.41.59.51 0 1.02-.2 1.41-.59l7.78-7.78 2.81-2.81c.8-.78.8-2.07 0-2.86zM5.41 20L4 18.59l7.72-7.72 1.47 1.35L5.41 20z\"/>\n",
              "  </svg>\n",
              "      </button>\n",
              "      \n",
              "  <style>\n",
              "    .colab-df-container {\n",
              "      display:flex;\n",
              "      flex-wrap:wrap;\n",
              "      gap: 12px;\n",
              "    }\n",
              "\n",
              "    .colab-df-convert {\n",
              "      background-color: #E8F0FE;\n",
              "      border: none;\n",
              "      border-radius: 50%;\n",
              "      cursor: pointer;\n",
              "      display: none;\n",
              "      fill: #1967D2;\n",
              "      height: 32px;\n",
              "      padding: 0 0 0 0;\n",
              "      width: 32px;\n",
              "    }\n",
              "\n",
              "    .colab-df-convert:hover {\n",
              "      background-color: #E2EBFA;\n",
              "      box-shadow: 0px 1px 2px rgba(60, 64, 67, 0.3), 0px 1px 3px 1px rgba(60, 64, 67, 0.15);\n",
              "      fill: #174EA6;\n",
              "    }\n",
              "\n",
              "    [theme=dark] .colab-df-convert {\n",
              "      background-color: #3B4455;\n",
              "      fill: #D2E3FC;\n",
              "    }\n",
              "\n",
              "    [theme=dark] .colab-df-convert:hover {\n",
              "      background-color: #434B5C;\n",
              "      box-shadow: 0px 1px 3px 1px rgba(0, 0, 0, 0.15);\n",
              "      filter: drop-shadow(0px 1px 2px rgba(0, 0, 0, 0.3));\n",
              "      fill: #FFFFFF;\n",
              "    }\n",
              "  </style>\n",
              "\n",
              "      <script>\n",
              "        const buttonEl =\n",
              "          document.querySelector('#df-1aa6af95-7aaf-4faf-84d1-3480f9707d26 button.colab-df-convert');\n",
              "        buttonEl.style.display =\n",
              "          google.colab.kernel.accessAllowed ? 'block' : 'none';\n",
              "\n",
              "        async function convertToInteractive(key) {\n",
              "          const element = document.querySelector('#df-1aa6af95-7aaf-4faf-84d1-3480f9707d26');\n",
              "          const dataTable =\n",
              "            await google.colab.kernel.invokeFunction('convertToInteractive',\n",
              "                                                     [key], {});\n",
              "          if (!dataTable) return;\n",
              "\n",
              "          const docLinkHtml = 'Like what you see? Visit the ' +\n",
              "            '<a target=\"_blank\" href=https://colab.research.google.com/notebooks/data_table.ipynb>data table notebook</a>'\n",
              "            + ' to learn more about interactive tables.';\n",
              "          element.innerHTML = '';\n",
              "          dataTable['output_type'] = 'display_data';\n",
              "          await google.colab.output.renderOutput(dataTable, element);\n",
              "          const docLink = document.createElement('div');\n",
              "          docLink.innerHTML = docLinkHtml;\n",
              "          element.appendChild(docLink);\n",
              "        }\n",
              "      </script>\n",
              "    </div>\n",
              "  </div>\n",
              "  "
            ]
          },
          "metadata": {},
          "execution_count": 11
        }
      ],
      "source": [
        "# Re-labelling the data where 0 represents non-abusive and 1 represents abusive\n",
        "data.loc[data['class']>1,'label'] = 0\n",
        "data.loc[data['class']<=1,'label'] = 1\n",
        "data.drop(data.columns[[0]], axis=1, inplace=True)\n",
        "data.head()"
      ],
      "id": "6f2571f3"
    },
    {
      "cell_type": "code",
      "execution_count": 12,
      "metadata": {
        "colab": {
          "base_uri": "https://localhost:8080/",
          "height": 206
        },
        "id": "b977a866",
        "outputId": "b013e255-e8f7-4bf5-cd8c-0201bb4cf5ba"
      },
      "outputs": [
        {
          "output_type": "execute_result",
          "data": {
            "text/plain": [
              "                                               tweet  label\n",
              "0  !!! rt @mayasolovely: as a woman you shouldn't...    0.0\n",
              "1  !!!!! rt @mleew17: boy dats cold...tyga dwn ba...    1.0\n",
              "2  !!!!!!! rt @urkindofbrand dawg!!!! rt @80sbaby...    1.0\n",
              "3  !!!!!!!!! rt @c_g_anderson: @viva_based she lo...    1.0\n",
              "4  !!!!!!!!!!!!! rt @shenikaroberts: the shit you...    1.0"
            ],
            "text/html": [
              "\n",
              "  <div id=\"df-edf4d15f-3a47-4d62-8cdb-975cc6cb2c42\">\n",
              "    <div class=\"colab-df-container\">\n",
              "      <div>\n",
              "<style scoped>\n",
              "    .dataframe tbody tr th:only-of-type {\n",
              "        vertical-align: middle;\n",
              "    }\n",
              "\n",
              "    .dataframe tbody tr th {\n",
              "        vertical-align: top;\n",
              "    }\n",
              "\n",
              "    .dataframe thead th {\n",
              "        text-align: right;\n",
              "    }\n",
              "</style>\n",
              "<table border=\"1\" class=\"dataframe\">\n",
              "  <thead>\n",
              "    <tr style=\"text-align: right;\">\n",
              "      <th></th>\n",
              "      <th>tweet</th>\n",
              "      <th>label</th>\n",
              "    </tr>\n",
              "  </thead>\n",
              "  <tbody>\n",
              "    <tr>\n",
              "      <th>0</th>\n",
              "      <td>!!! rt @mayasolovely: as a woman you shouldn't...</td>\n",
              "      <td>0.0</td>\n",
              "    </tr>\n",
              "    <tr>\n",
              "      <th>1</th>\n",
              "      <td>!!!!! rt @mleew17: boy dats cold...tyga dwn ba...</td>\n",
              "      <td>1.0</td>\n",
              "    </tr>\n",
              "    <tr>\n",
              "      <th>2</th>\n",
              "      <td>!!!!!!! rt @urkindofbrand dawg!!!! rt @80sbaby...</td>\n",
              "      <td>1.0</td>\n",
              "    </tr>\n",
              "    <tr>\n",
              "      <th>3</th>\n",
              "      <td>!!!!!!!!! rt @c_g_anderson: @viva_based she lo...</td>\n",
              "      <td>1.0</td>\n",
              "    </tr>\n",
              "    <tr>\n",
              "      <th>4</th>\n",
              "      <td>!!!!!!!!!!!!! rt @shenikaroberts: the shit you...</td>\n",
              "      <td>1.0</td>\n",
              "    </tr>\n",
              "  </tbody>\n",
              "</table>\n",
              "</div>\n",
              "      <button class=\"colab-df-convert\" onclick=\"convertToInteractive('df-edf4d15f-3a47-4d62-8cdb-975cc6cb2c42')\"\n",
              "              title=\"Convert this dataframe to an interactive table.\"\n",
              "              style=\"display:none;\">\n",
              "        \n",
              "  <svg xmlns=\"http://www.w3.org/2000/svg\" height=\"24px\"viewBox=\"0 0 24 24\"\n",
              "       width=\"24px\">\n",
              "    <path d=\"M0 0h24v24H0V0z\" fill=\"none\"/>\n",
              "    <path d=\"M18.56 5.44l.94 2.06.94-2.06 2.06-.94-2.06-.94-.94-2.06-.94 2.06-2.06.94zm-11 1L8.5 8.5l.94-2.06 2.06-.94-2.06-.94L8.5 2.5l-.94 2.06-2.06.94zm10 10l.94 2.06.94-2.06 2.06-.94-2.06-.94-.94-2.06-.94 2.06-2.06.94z\"/><path d=\"M17.41 7.96l-1.37-1.37c-.4-.4-.92-.59-1.43-.59-.52 0-1.04.2-1.43.59L10.3 9.45l-7.72 7.72c-.78.78-.78 2.05 0 2.83L4 21.41c.39.39.9.59 1.41.59.51 0 1.02-.2 1.41-.59l7.78-7.78 2.81-2.81c.8-.78.8-2.07 0-2.86zM5.41 20L4 18.59l7.72-7.72 1.47 1.35L5.41 20z\"/>\n",
              "  </svg>\n",
              "      </button>\n",
              "      \n",
              "  <style>\n",
              "    .colab-df-container {\n",
              "      display:flex;\n",
              "      flex-wrap:wrap;\n",
              "      gap: 12px;\n",
              "    }\n",
              "\n",
              "    .colab-df-convert {\n",
              "      background-color: #E8F0FE;\n",
              "      border: none;\n",
              "      border-radius: 50%;\n",
              "      cursor: pointer;\n",
              "      display: none;\n",
              "      fill: #1967D2;\n",
              "      height: 32px;\n",
              "      padding: 0 0 0 0;\n",
              "      width: 32px;\n",
              "    }\n",
              "\n",
              "    .colab-df-convert:hover {\n",
              "      background-color: #E2EBFA;\n",
              "      box-shadow: 0px 1px 2px rgba(60, 64, 67, 0.3), 0px 1px 3px 1px rgba(60, 64, 67, 0.15);\n",
              "      fill: #174EA6;\n",
              "    }\n",
              "\n",
              "    [theme=dark] .colab-df-convert {\n",
              "      background-color: #3B4455;\n",
              "      fill: #D2E3FC;\n",
              "    }\n",
              "\n",
              "    [theme=dark] .colab-df-convert:hover {\n",
              "      background-color: #434B5C;\n",
              "      box-shadow: 0px 1px 3px 1px rgba(0, 0, 0, 0.15);\n",
              "      filter: drop-shadow(0px 1px 2px rgba(0, 0, 0, 0.3));\n",
              "      fill: #FFFFFF;\n",
              "    }\n",
              "  </style>\n",
              "\n",
              "      <script>\n",
              "        const buttonEl =\n",
              "          document.querySelector('#df-edf4d15f-3a47-4d62-8cdb-975cc6cb2c42 button.colab-df-convert');\n",
              "        buttonEl.style.display =\n",
              "          google.colab.kernel.accessAllowed ? 'block' : 'none';\n",
              "\n",
              "        async function convertToInteractive(key) {\n",
              "          const element = document.querySelector('#df-edf4d15f-3a47-4d62-8cdb-975cc6cb2c42');\n",
              "          const dataTable =\n",
              "            await google.colab.kernel.invokeFunction('convertToInteractive',\n",
              "                                                     [key], {});\n",
              "          if (!dataTable) return;\n",
              "\n",
              "          const docLinkHtml = 'Like what you see? Visit the ' +\n",
              "            '<a target=\"_blank\" href=https://colab.research.google.com/notebooks/data_table.ipynb>data table notebook</a>'\n",
              "            + ' to learn more about interactive tables.';\n",
              "          element.innerHTML = '';\n",
              "          dataTable['output_type'] = 'display_data';\n",
              "          await google.colab.output.renderOutput(dataTable, element);\n",
              "          const docLink = document.createElement('div');\n",
              "          docLink.innerHTML = docLinkHtml;\n",
              "          element.appendChild(docLink);\n",
              "        }\n",
              "      </script>\n",
              "    </div>\n",
              "  </div>\n",
              "  "
            ]
          },
          "metadata": {},
          "execution_count": 12
        }
      ],
      "source": [
        "# Coverting the entire dataset to lower-case\n",
        "data['tweet'] = data['tweet'].str.lower()\n",
        "data.head()"
      ],
      "id": "b977a866"
    },
    {
      "cell_type": "code",
      "execution_count": 13,
      "metadata": {
        "id": "Zk0Or1WCsOdi"
      },
      "outputs": [],
      "source": [
        "# Replacing multiple spaces from the dataset to a single space\n",
        "def removeSpace(tweet):\n",
        "  return \" \".join(tweet.split())\n",
        "\n",
        "data['tweet'] = data['tweet'].apply(removeSpace)"
      ],
      "id": "Zk0Or1WCsOdi"
    },
    {
      "cell_type": "code",
      "execution_count": 14,
      "metadata": {
        "colab": {
          "base_uri": "https://localhost:8080/",
          "height": 206
        },
        "id": "wqxdFKEesyy9",
        "outputId": "2182e957-f1a1-41b0-e918-616fce24d074"
      },
      "outputs": [
        {
          "output_type": "execute_result",
          "data": {
            "text/plain": [
              "                                               tweet  label\n",
              "0  !!! rt @mayasolovely: as a woman you shouldn't...    0.0\n",
              "1  !!!!! rt @mleew17: boy dats cold...tyga dwn ba...    1.0\n",
              "2  !!!!!!! rt @urkindofbrand dawg!!!! rt @80sbaby...    1.0\n",
              "3  !!!!!!!!! rt @c_g_anderson: @viva_based she lo...    1.0\n",
              "4  !!!!!!!!!!!!! rt @shenikaroberts: the shit you...    1.0"
            ],
            "text/html": [
              "\n",
              "  <div id=\"df-5835f796-1138-46d2-9814-5610a91c4f16\">\n",
              "    <div class=\"colab-df-container\">\n",
              "      <div>\n",
              "<style scoped>\n",
              "    .dataframe tbody tr th:only-of-type {\n",
              "        vertical-align: middle;\n",
              "    }\n",
              "\n",
              "    .dataframe tbody tr th {\n",
              "        vertical-align: top;\n",
              "    }\n",
              "\n",
              "    .dataframe thead th {\n",
              "        text-align: right;\n",
              "    }\n",
              "</style>\n",
              "<table border=\"1\" class=\"dataframe\">\n",
              "  <thead>\n",
              "    <tr style=\"text-align: right;\">\n",
              "      <th></th>\n",
              "      <th>tweet</th>\n",
              "      <th>label</th>\n",
              "    </tr>\n",
              "  </thead>\n",
              "  <tbody>\n",
              "    <tr>\n",
              "      <th>0</th>\n",
              "      <td>!!! rt @mayasolovely: as a woman you shouldn't...</td>\n",
              "      <td>0.0</td>\n",
              "    </tr>\n",
              "    <tr>\n",
              "      <th>1</th>\n",
              "      <td>!!!!! rt @mleew17: boy dats cold...tyga dwn ba...</td>\n",
              "      <td>1.0</td>\n",
              "    </tr>\n",
              "    <tr>\n",
              "      <th>2</th>\n",
              "      <td>!!!!!!! rt @urkindofbrand dawg!!!! rt @80sbaby...</td>\n",
              "      <td>1.0</td>\n",
              "    </tr>\n",
              "    <tr>\n",
              "      <th>3</th>\n",
              "      <td>!!!!!!!!! rt @c_g_anderson: @viva_based she lo...</td>\n",
              "      <td>1.0</td>\n",
              "    </tr>\n",
              "    <tr>\n",
              "      <th>4</th>\n",
              "      <td>!!!!!!!!!!!!! rt @shenikaroberts: the shit you...</td>\n",
              "      <td>1.0</td>\n",
              "    </tr>\n",
              "  </tbody>\n",
              "</table>\n",
              "</div>\n",
              "      <button class=\"colab-df-convert\" onclick=\"convertToInteractive('df-5835f796-1138-46d2-9814-5610a91c4f16')\"\n",
              "              title=\"Convert this dataframe to an interactive table.\"\n",
              "              style=\"display:none;\">\n",
              "        \n",
              "  <svg xmlns=\"http://www.w3.org/2000/svg\" height=\"24px\"viewBox=\"0 0 24 24\"\n",
              "       width=\"24px\">\n",
              "    <path d=\"M0 0h24v24H0V0z\" fill=\"none\"/>\n",
              "    <path d=\"M18.56 5.44l.94 2.06.94-2.06 2.06-.94-2.06-.94-.94-2.06-.94 2.06-2.06.94zm-11 1L8.5 8.5l.94-2.06 2.06-.94-2.06-.94L8.5 2.5l-.94 2.06-2.06.94zm10 10l.94 2.06.94-2.06 2.06-.94-2.06-.94-.94-2.06-.94 2.06-2.06.94z\"/><path d=\"M17.41 7.96l-1.37-1.37c-.4-.4-.92-.59-1.43-.59-.52 0-1.04.2-1.43.59L10.3 9.45l-7.72 7.72c-.78.78-.78 2.05 0 2.83L4 21.41c.39.39.9.59 1.41.59.51 0 1.02-.2 1.41-.59l7.78-7.78 2.81-2.81c.8-.78.8-2.07 0-2.86zM5.41 20L4 18.59l7.72-7.72 1.47 1.35L5.41 20z\"/>\n",
              "  </svg>\n",
              "      </button>\n",
              "      \n",
              "  <style>\n",
              "    .colab-df-container {\n",
              "      display:flex;\n",
              "      flex-wrap:wrap;\n",
              "      gap: 12px;\n",
              "    }\n",
              "\n",
              "    .colab-df-convert {\n",
              "      background-color: #E8F0FE;\n",
              "      border: none;\n",
              "      border-radius: 50%;\n",
              "      cursor: pointer;\n",
              "      display: none;\n",
              "      fill: #1967D2;\n",
              "      height: 32px;\n",
              "      padding: 0 0 0 0;\n",
              "      width: 32px;\n",
              "    }\n",
              "\n",
              "    .colab-df-convert:hover {\n",
              "      background-color: #E2EBFA;\n",
              "      box-shadow: 0px 1px 2px rgba(60, 64, 67, 0.3), 0px 1px 3px 1px rgba(60, 64, 67, 0.15);\n",
              "      fill: #174EA6;\n",
              "    }\n",
              "\n",
              "    [theme=dark] .colab-df-convert {\n",
              "      background-color: #3B4455;\n",
              "      fill: #D2E3FC;\n",
              "    }\n",
              "\n",
              "    [theme=dark] .colab-df-convert:hover {\n",
              "      background-color: #434B5C;\n",
              "      box-shadow: 0px 1px 3px 1px rgba(0, 0, 0, 0.15);\n",
              "      filter: drop-shadow(0px 1px 2px rgba(0, 0, 0, 0.3));\n",
              "      fill: #FFFFFF;\n",
              "    }\n",
              "  </style>\n",
              "\n",
              "      <script>\n",
              "        const buttonEl =\n",
              "          document.querySelector('#df-5835f796-1138-46d2-9814-5610a91c4f16 button.colab-df-convert');\n",
              "        buttonEl.style.display =\n",
              "          google.colab.kernel.accessAllowed ? 'block' : 'none';\n",
              "\n",
              "        async function convertToInteractive(key) {\n",
              "          const element = document.querySelector('#df-5835f796-1138-46d2-9814-5610a91c4f16');\n",
              "          const dataTable =\n",
              "            await google.colab.kernel.invokeFunction('convertToInteractive',\n",
              "                                                     [key], {});\n",
              "          if (!dataTable) return;\n",
              "\n",
              "          const docLinkHtml = 'Like what you see? Visit the ' +\n",
              "            '<a target=\"_blank\" href=https://colab.research.google.com/notebooks/data_table.ipynb>data table notebook</a>'\n",
              "            + ' to learn more about interactive tables.';\n",
              "          element.innerHTML = '';\n",
              "          dataTable['output_type'] = 'display_data';\n",
              "          await google.colab.output.renderOutput(dataTable, element);\n",
              "          const docLink = document.createElement('div');\n",
              "          docLink.innerHTML = docLinkHtml;\n",
              "          element.appendChild(docLink);\n",
              "        }\n",
              "      </script>\n",
              "    </div>\n",
              "  </div>\n",
              "  "
            ]
          },
          "metadata": {},
          "execution_count": 14
        }
      ],
      "source": [
        "data.head()"
      ],
      "id": "wqxdFKEesyy9"
    },
    {
      "cell_type": "code",
      "execution_count": 15,
      "metadata": {
        "id": "eMePHscLs3mq"
      },
      "outputs": [],
      "source": [
        "# Tokenize the entire tweet column of the dataset\n",
        "data['tweet'] = data['tweet'].apply(lambda x: word_tokenize(x))"
      ],
      "id": "eMePHscLs3mq"
    },
    {
      "cell_type": "code",
      "execution_count": 16,
      "metadata": {
        "colab": {
          "base_uri": "https://localhost:8080/",
          "height": 206
        },
        "id": "9o9jXjVKuBlo",
        "outputId": "bfb255c7-9469-4f44-cc06-bfe29dd16e15"
      },
      "outputs": [
        {
          "output_type": "execute_result",
          "data": {
            "text/plain": [
              "                                               tweet  label\n",
              "0  [!, !, !, rt, @, mayasolovely, :, as, a, woman...    0.0\n",
              "1  [!, !, !, !, !, rt, @, mleew17, :, boy, dats, ...    1.0\n",
              "2  [!, !, !, !, !, !, !, rt, @, urkindofbrand, da...    1.0\n",
              "3  [!, !, !, !, !, !, !, !, !, rt, @, c_g_anderso...    1.0\n",
              "4  [!, !, !, !, !, !, !, !, !, !, !, !, !, rt, @,...    1.0"
            ],
            "text/html": [
              "\n",
              "  <div id=\"df-c68e89ec-9e01-4165-93d4-17e48ab0f66a\">\n",
              "    <div class=\"colab-df-container\">\n",
              "      <div>\n",
              "<style scoped>\n",
              "    .dataframe tbody tr th:only-of-type {\n",
              "        vertical-align: middle;\n",
              "    }\n",
              "\n",
              "    .dataframe tbody tr th {\n",
              "        vertical-align: top;\n",
              "    }\n",
              "\n",
              "    .dataframe thead th {\n",
              "        text-align: right;\n",
              "    }\n",
              "</style>\n",
              "<table border=\"1\" class=\"dataframe\">\n",
              "  <thead>\n",
              "    <tr style=\"text-align: right;\">\n",
              "      <th></th>\n",
              "      <th>tweet</th>\n",
              "      <th>label</th>\n",
              "    </tr>\n",
              "  </thead>\n",
              "  <tbody>\n",
              "    <tr>\n",
              "      <th>0</th>\n",
              "      <td>[!, !, !, rt, @, mayasolovely, :, as, a, woman...</td>\n",
              "      <td>0.0</td>\n",
              "    </tr>\n",
              "    <tr>\n",
              "      <th>1</th>\n",
              "      <td>[!, !, !, !, !, rt, @, mleew17, :, boy, dats, ...</td>\n",
              "      <td>1.0</td>\n",
              "    </tr>\n",
              "    <tr>\n",
              "      <th>2</th>\n",
              "      <td>[!, !, !, !, !, !, !, rt, @, urkindofbrand, da...</td>\n",
              "      <td>1.0</td>\n",
              "    </tr>\n",
              "    <tr>\n",
              "      <th>3</th>\n",
              "      <td>[!, !, !, !, !, !, !, !, !, rt, @, c_g_anderso...</td>\n",
              "      <td>1.0</td>\n",
              "    </tr>\n",
              "    <tr>\n",
              "      <th>4</th>\n",
              "      <td>[!, !, !, !, !, !, !, !, !, !, !, !, !, rt, @,...</td>\n",
              "      <td>1.0</td>\n",
              "    </tr>\n",
              "  </tbody>\n",
              "</table>\n",
              "</div>\n",
              "      <button class=\"colab-df-convert\" onclick=\"convertToInteractive('df-c68e89ec-9e01-4165-93d4-17e48ab0f66a')\"\n",
              "              title=\"Convert this dataframe to an interactive table.\"\n",
              "              style=\"display:none;\">\n",
              "        \n",
              "  <svg xmlns=\"http://www.w3.org/2000/svg\" height=\"24px\"viewBox=\"0 0 24 24\"\n",
              "       width=\"24px\">\n",
              "    <path d=\"M0 0h24v24H0V0z\" fill=\"none\"/>\n",
              "    <path d=\"M18.56 5.44l.94 2.06.94-2.06 2.06-.94-2.06-.94-.94-2.06-.94 2.06-2.06.94zm-11 1L8.5 8.5l.94-2.06 2.06-.94-2.06-.94L8.5 2.5l-.94 2.06-2.06.94zm10 10l.94 2.06.94-2.06 2.06-.94-2.06-.94-.94-2.06-.94 2.06-2.06.94z\"/><path d=\"M17.41 7.96l-1.37-1.37c-.4-.4-.92-.59-1.43-.59-.52 0-1.04.2-1.43.59L10.3 9.45l-7.72 7.72c-.78.78-.78 2.05 0 2.83L4 21.41c.39.39.9.59 1.41.59.51 0 1.02-.2 1.41-.59l7.78-7.78 2.81-2.81c.8-.78.8-2.07 0-2.86zM5.41 20L4 18.59l7.72-7.72 1.47 1.35L5.41 20z\"/>\n",
              "  </svg>\n",
              "      </button>\n",
              "      \n",
              "  <style>\n",
              "    .colab-df-container {\n",
              "      display:flex;\n",
              "      flex-wrap:wrap;\n",
              "      gap: 12px;\n",
              "    }\n",
              "\n",
              "    .colab-df-convert {\n",
              "      background-color: #E8F0FE;\n",
              "      border: none;\n",
              "      border-radius: 50%;\n",
              "      cursor: pointer;\n",
              "      display: none;\n",
              "      fill: #1967D2;\n",
              "      height: 32px;\n",
              "      padding: 0 0 0 0;\n",
              "      width: 32px;\n",
              "    }\n",
              "\n",
              "    .colab-df-convert:hover {\n",
              "      background-color: #E2EBFA;\n",
              "      box-shadow: 0px 1px 2px rgba(60, 64, 67, 0.3), 0px 1px 3px 1px rgba(60, 64, 67, 0.15);\n",
              "      fill: #174EA6;\n",
              "    }\n",
              "\n",
              "    [theme=dark] .colab-df-convert {\n",
              "      background-color: #3B4455;\n",
              "      fill: #D2E3FC;\n",
              "    }\n",
              "\n",
              "    [theme=dark] .colab-df-convert:hover {\n",
              "      background-color: #434B5C;\n",
              "      box-shadow: 0px 1px 3px 1px rgba(0, 0, 0, 0.15);\n",
              "      filter: drop-shadow(0px 1px 2px rgba(0, 0, 0, 0.3));\n",
              "      fill: #FFFFFF;\n",
              "    }\n",
              "  </style>\n",
              "\n",
              "      <script>\n",
              "        const buttonEl =\n",
              "          document.querySelector('#df-c68e89ec-9e01-4165-93d4-17e48ab0f66a button.colab-df-convert');\n",
              "        buttonEl.style.display =\n",
              "          google.colab.kernel.accessAllowed ? 'block' : 'none';\n",
              "\n",
              "        async function convertToInteractive(key) {\n",
              "          const element = document.querySelector('#df-c68e89ec-9e01-4165-93d4-17e48ab0f66a');\n",
              "          const dataTable =\n",
              "            await google.colab.kernel.invokeFunction('convertToInteractive',\n",
              "                                                     [key], {});\n",
              "          if (!dataTable) return;\n",
              "\n",
              "          const docLinkHtml = 'Like what you see? Visit the ' +\n",
              "            '<a target=\"_blank\" href=https://colab.research.google.com/notebooks/data_table.ipynb>data table notebook</a>'\n",
              "            + ' to learn more about interactive tables.';\n",
              "          element.innerHTML = '';\n",
              "          dataTable['output_type'] = 'display_data';\n",
              "          await google.colab.output.renderOutput(dataTable, element);\n",
              "          const docLink = document.createElement('div');\n",
              "          docLink.innerHTML = docLinkHtml;\n",
              "          element.appendChild(docLink);\n",
              "        }\n",
              "      </script>\n",
              "    </div>\n",
              "  </div>\n",
              "  "
            ]
          },
          "metadata": {},
          "execution_count": 16
        }
      ],
      "source": [
        "data.head()"
      ],
      "id": "9o9jXjVKuBlo"
    },
    {
      "cell_type": "code",
      "execution_count": 17,
      "metadata": {
        "id": "x4I-WUb4yyab"
      },
      "outputs": [],
      "source": [
        "# #Rectifies the spelling mistakes\n",
        "\n",
        "# def rectifySpelling(tweet):\n",
        "#   sp = SpellChecker()\n",
        "#   output = []\n",
        "#   for line in tweet:\n",
        "#     output.append(sp.correction(line))\n",
        "#   return output\n",
        "\n",
        "\n",
        "# data['tweet'] = data['tweet'].apply(rectifySpelling)\n",
        "# data.head()"
      ],
      "id": "x4I-WUb4yyab"
    },
    {
      "cell_type": "code",
      "execution_count": 18,
      "metadata": {
        "id": "xsZ7BFhi6RMK"
      },
      "outputs": [],
      "source": [
        "# Removing the most common words like prepositions , articles , etc.\n",
        "stopwords = stopwords.words('english')\n",
        "def removeWords(tweet):\n",
        "  \n",
        "  output = []\n",
        "  for word in tweet:\n",
        "    if word not in stopwords:\n",
        "      output.append(word)\n",
        "  return output\n",
        "\n",
        "data['tweet'] = data['tweet'].apply(removeWords)"
      ],
      "id": "xsZ7BFhi6RMK"
    },
    {
      "cell_type": "code",
      "execution_count": 19,
      "metadata": {
        "colab": {
          "base_uri": "https://localhost:8080/",
          "height": 206
        },
        "id": "Xx3nFGE88Qtl",
        "outputId": "2010943b-2648-495b-d09b-9491f1c5dde8"
      },
      "outputs": [
        {
          "output_type": "execute_result",
          "data": {
            "text/plain": [
              "                                               tweet  label\n",
              "0  [!, !, !, rt, @, mayasolovely, :, woman, n't, ...    0.0\n",
              "1  [!, !, !, !, !, rt, @, mleew17, :, boy, dats, ...    1.0\n",
              "2  [!, !, !, !, !, !, !, rt, @, urkindofbrand, da...    1.0\n",
              "3  [!, !, !, !, !, !, !, !, !, rt, @, c_g_anderso...    1.0\n",
              "4  [!, !, !, !, !, !, !, !, !, !, !, !, !, rt, @,...    1.0"
            ],
            "text/html": [
              "\n",
              "  <div id=\"df-36e2be33-b5f9-4ee7-b769-b7c991436f86\">\n",
              "    <div class=\"colab-df-container\">\n",
              "      <div>\n",
              "<style scoped>\n",
              "    .dataframe tbody tr th:only-of-type {\n",
              "        vertical-align: middle;\n",
              "    }\n",
              "\n",
              "    .dataframe tbody tr th {\n",
              "        vertical-align: top;\n",
              "    }\n",
              "\n",
              "    .dataframe thead th {\n",
              "        text-align: right;\n",
              "    }\n",
              "</style>\n",
              "<table border=\"1\" class=\"dataframe\">\n",
              "  <thead>\n",
              "    <tr style=\"text-align: right;\">\n",
              "      <th></th>\n",
              "      <th>tweet</th>\n",
              "      <th>label</th>\n",
              "    </tr>\n",
              "  </thead>\n",
              "  <tbody>\n",
              "    <tr>\n",
              "      <th>0</th>\n",
              "      <td>[!, !, !, rt, @, mayasolovely, :, woman, n't, ...</td>\n",
              "      <td>0.0</td>\n",
              "    </tr>\n",
              "    <tr>\n",
              "      <th>1</th>\n",
              "      <td>[!, !, !, !, !, rt, @, mleew17, :, boy, dats, ...</td>\n",
              "      <td>1.0</td>\n",
              "    </tr>\n",
              "    <tr>\n",
              "      <th>2</th>\n",
              "      <td>[!, !, !, !, !, !, !, rt, @, urkindofbrand, da...</td>\n",
              "      <td>1.0</td>\n",
              "    </tr>\n",
              "    <tr>\n",
              "      <th>3</th>\n",
              "      <td>[!, !, !, !, !, !, !, !, !, rt, @, c_g_anderso...</td>\n",
              "      <td>1.0</td>\n",
              "    </tr>\n",
              "    <tr>\n",
              "      <th>4</th>\n",
              "      <td>[!, !, !, !, !, !, !, !, !, !, !, !, !, rt, @,...</td>\n",
              "      <td>1.0</td>\n",
              "    </tr>\n",
              "  </tbody>\n",
              "</table>\n",
              "</div>\n",
              "      <button class=\"colab-df-convert\" onclick=\"convertToInteractive('df-36e2be33-b5f9-4ee7-b769-b7c991436f86')\"\n",
              "              title=\"Convert this dataframe to an interactive table.\"\n",
              "              style=\"display:none;\">\n",
              "        \n",
              "  <svg xmlns=\"http://www.w3.org/2000/svg\" height=\"24px\"viewBox=\"0 0 24 24\"\n",
              "       width=\"24px\">\n",
              "    <path d=\"M0 0h24v24H0V0z\" fill=\"none\"/>\n",
              "    <path d=\"M18.56 5.44l.94 2.06.94-2.06 2.06-.94-2.06-.94-.94-2.06-.94 2.06-2.06.94zm-11 1L8.5 8.5l.94-2.06 2.06-.94-2.06-.94L8.5 2.5l-.94 2.06-2.06.94zm10 10l.94 2.06.94-2.06 2.06-.94-2.06-.94-.94-2.06-.94 2.06-2.06.94z\"/><path d=\"M17.41 7.96l-1.37-1.37c-.4-.4-.92-.59-1.43-.59-.52 0-1.04.2-1.43.59L10.3 9.45l-7.72 7.72c-.78.78-.78 2.05 0 2.83L4 21.41c.39.39.9.59 1.41.59.51 0 1.02-.2 1.41-.59l7.78-7.78 2.81-2.81c.8-.78.8-2.07 0-2.86zM5.41 20L4 18.59l7.72-7.72 1.47 1.35L5.41 20z\"/>\n",
              "  </svg>\n",
              "      </button>\n",
              "      \n",
              "  <style>\n",
              "    .colab-df-container {\n",
              "      display:flex;\n",
              "      flex-wrap:wrap;\n",
              "      gap: 12px;\n",
              "    }\n",
              "\n",
              "    .colab-df-convert {\n",
              "      background-color: #E8F0FE;\n",
              "      border: none;\n",
              "      border-radius: 50%;\n",
              "      cursor: pointer;\n",
              "      display: none;\n",
              "      fill: #1967D2;\n",
              "      height: 32px;\n",
              "      padding: 0 0 0 0;\n",
              "      width: 32px;\n",
              "    }\n",
              "\n",
              "    .colab-df-convert:hover {\n",
              "      background-color: #E2EBFA;\n",
              "      box-shadow: 0px 1px 2px rgba(60, 64, 67, 0.3), 0px 1px 3px 1px rgba(60, 64, 67, 0.15);\n",
              "      fill: #174EA6;\n",
              "    }\n",
              "\n",
              "    [theme=dark] .colab-df-convert {\n",
              "      background-color: #3B4455;\n",
              "      fill: #D2E3FC;\n",
              "    }\n",
              "\n",
              "    [theme=dark] .colab-df-convert:hover {\n",
              "      background-color: #434B5C;\n",
              "      box-shadow: 0px 1px 3px 1px rgba(0, 0, 0, 0.15);\n",
              "      filter: drop-shadow(0px 1px 2px rgba(0, 0, 0, 0.3));\n",
              "      fill: #FFFFFF;\n",
              "    }\n",
              "  </style>\n",
              "\n",
              "      <script>\n",
              "        const buttonEl =\n",
              "          document.querySelector('#df-36e2be33-b5f9-4ee7-b769-b7c991436f86 button.colab-df-convert');\n",
              "        buttonEl.style.display =\n",
              "          google.colab.kernel.accessAllowed ? 'block' : 'none';\n",
              "\n",
              "        async function convertToInteractive(key) {\n",
              "          const element = document.querySelector('#df-36e2be33-b5f9-4ee7-b769-b7c991436f86');\n",
              "          const dataTable =\n",
              "            await google.colab.kernel.invokeFunction('convertToInteractive',\n",
              "                                                     [key], {});\n",
              "          if (!dataTable) return;\n",
              "\n",
              "          const docLinkHtml = 'Like what you see? Visit the ' +\n",
              "            '<a target=\"_blank\" href=https://colab.research.google.com/notebooks/data_table.ipynb>data table notebook</a>'\n",
              "            + ' to learn more about interactive tables.';\n",
              "          element.innerHTML = '';\n",
              "          dataTable['output_type'] = 'display_data';\n",
              "          await google.colab.output.renderOutput(dataTable, element);\n",
              "          const docLink = document.createElement('div');\n",
              "          docLink.innerHTML = docLinkHtml;\n",
              "          element.appendChild(docLink);\n",
              "        }\n",
              "      </script>\n",
              "    </div>\n",
              "  </div>\n",
              "  "
            ]
          },
          "metadata": {},
          "execution_count": 19
        }
      ],
      "source": [
        "data.head()"
      ],
      "id": "Xx3nFGE88Qtl"
    },
    {
      "cell_type": "code",
      "execution_count": 20,
      "metadata": {
        "id": "hsQywTN29bWb"
      },
      "outputs": [],
      "source": [
        "# Removing the punctuation marks from the tweet column of the dataset\n",
        "def removePunctuation(tweet):\n",
        "  token = RegexpTokenizer(r\"\\w+\")\n",
        "  return token.tokenize(' '.join(tweet))\n",
        "\n",
        "data['tweet'] = data['tweet'].apply(removePunctuation)"
      ],
      "id": "hsQywTN29bWb"
    },
    {
      "cell_type": "code",
      "execution_count": 21,
      "metadata": {
        "colab": {
          "base_uri": "https://localhost:8080/",
          "height": 206
        },
        "id": "hdRjGOEz-UNP",
        "outputId": "0d1e7da2-74cd-4b27-a14f-144617ef3659"
      },
      "outputs": [
        {
          "output_type": "execute_result",
          "data": {
            "text/plain": [
              "                                               tweet  label\n",
              "0  [rt, mayasolovely, woman, n, t, complain, clea...    0.0\n",
              "1  [rt, mleew17, boy, dats, cold, tyga, dwn, bad,...    1.0\n",
              "2  [rt, urkindofbrand, dawg, rt, 80sbaby4life, ev...    1.0\n",
              "3  [rt, c_g_anderson, viva_based, look, like, tra...    1.0\n",
              "4  [rt, shenikaroberts, shit, hear, might, true, ...    1.0"
            ],
            "text/html": [
              "\n",
              "  <div id=\"df-7ad531cc-e8b7-4291-ad05-d49eae867fee\">\n",
              "    <div class=\"colab-df-container\">\n",
              "      <div>\n",
              "<style scoped>\n",
              "    .dataframe tbody tr th:only-of-type {\n",
              "        vertical-align: middle;\n",
              "    }\n",
              "\n",
              "    .dataframe tbody tr th {\n",
              "        vertical-align: top;\n",
              "    }\n",
              "\n",
              "    .dataframe thead th {\n",
              "        text-align: right;\n",
              "    }\n",
              "</style>\n",
              "<table border=\"1\" class=\"dataframe\">\n",
              "  <thead>\n",
              "    <tr style=\"text-align: right;\">\n",
              "      <th></th>\n",
              "      <th>tweet</th>\n",
              "      <th>label</th>\n",
              "    </tr>\n",
              "  </thead>\n",
              "  <tbody>\n",
              "    <tr>\n",
              "      <th>0</th>\n",
              "      <td>[rt, mayasolovely, woman, n, t, complain, clea...</td>\n",
              "      <td>0.0</td>\n",
              "    </tr>\n",
              "    <tr>\n",
              "      <th>1</th>\n",
              "      <td>[rt, mleew17, boy, dats, cold, tyga, dwn, bad,...</td>\n",
              "      <td>1.0</td>\n",
              "    </tr>\n",
              "    <tr>\n",
              "      <th>2</th>\n",
              "      <td>[rt, urkindofbrand, dawg, rt, 80sbaby4life, ev...</td>\n",
              "      <td>1.0</td>\n",
              "    </tr>\n",
              "    <tr>\n",
              "      <th>3</th>\n",
              "      <td>[rt, c_g_anderson, viva_based, look, like, tra...</td>\n",
              "      <td>1.0</td>\n",
              "    </tr>\n",
              "    <tr>\n",
              "      <th>4</th>\n",
              "      <td>[rt, shenikaroberts, shit, hear, might, true, ...</td>\n",
              "      <td>1.0</td>\n",
              "    </tr>\n",
              "  </tbody>\n",
              "</table>\n",
              "</div>\n",
              "      <button class=\"colab-df-convert\" onclick=\"convertToInteractive('df-7ad531cc-e8b7-4291-ad05-d49eae867fee')\"\n",
              "              title=\"Convert this dataframe to an interactive table.\"\n",
              "              style=\"display:none;\">\n",
              "        \n",
              "  <svg xmlns=\"http://www.w3.org/2000/svg\" height=\"24px\"viewBox=\"0 0 24 24\"\n",
              "       width=\"24px\">\n",
              "    <path d=\"M0 0h24v24H0V0z\" fill=\"none\"/>\n",
              "    <path d=\"M18.56 5.44l.94 2.06.94-2.06 2.06-.94-2.06-.94-.94-2.06-.94 2.06-2.06.94zm-11 1L8.5 8.5l.94-2.06 2.06-.94-2.06-.94L8.5 2.5l-.94 2.06-2.06.94zm10 10l.94 2.06.94-2.06 2.06-.94-2.06-.94-.94-2.06-.94 2.06-2.06.94z\"/><path d=\"M17.41 7.96l-1.37-1.37c-.4-.4-.92-.59-1.43-.59-.52 0-1.04.2-1.43.59L10.3 9.45l-7.72 7.72c-.78.78-.78 2.05 0 2.83L4 21.41c.39.39.9.59 1.41.59.51 0 1.02-.2 1.41-.59l7.78-7.78 2.81-2.81c.8-.78.8-2.07 0-2.86zM5.41 20L4 18.59l7.72-7.72 1.47 1.35L5.41 20z\"/>\n",
              "  </svg>\n",
              "      </button>\n",
              "      \n",
              "  <style>\n",
              "    .colab-df-container {\n",
              "      display:flex;\n",
              "      flex-wrap:wrap;\n",
              "      gap: 12px;\n",
              "    }\n",
              "\n",
              "    .colab-df-convert {\n",
              "      background-color: #E8F0FE;\n",
              "      border: none;\n",
              "      border-radius: 50%;\n",
              "      cursor: pointer;\n",
              "      display: none;\n",
              "      fill: #1967D2;\n",
              "      height: 32px;\n",
              "      padding: 0 0 0 0;\n",
              "      width: 32px;\n",
              "    }\n",
              "\n",
              "    .colab-df-convert:hover {\n",
              "      background-color: #E2EBFA;\n",
              "      box-shadow: 0px 1px 2px rgba(60, 64, 67, 0.3), 0px 1px 3px 1px rgba(60, 64, 67, 0.15);\n",
              "      fill: #174EA6;\n",
              "    }\n",
              "\n",
              "    [theme=dark] .colab-df-convert {\n",
              "      background-color: #3B4455;\n",
              "      fill: #D2E3FC;\n",
              "    }\n",
              "\n",
              "    [theme=dark] .colab-df-convert:hover {\n",
              "      background-color: #434B5C;\n",
              "      box-shadow: 0px 1px 3px 1px rgba(0, 0, 0, 0.15);\n",
              "      filter: drop-shadow(0px 1px 2px rgba(0, 0, 0, 0.3));\n",
              "      fill: #FFFFFF;\n",
              "    }\n",
              "  </style>\n",
              "\n",
              "      <script>\n",
              "        const buttonEl =\n",
              "          document.querySelector('#df-7ad531cc-e8b7-4291-ad05-d49eae867fee button.colab-df-convert');\n",
              "        buttonEl.style.display =\n",
              "          google.colab.kernel.accessAllowed ? 'block' : 'none';\n",
              "\n",
              "        async function convertToInteractive(key) {\n",
              "          const element = document.querySelector('#df-7ad531cc-e8b7-4291-ad05-d49eae867fee');\n",
              "          const dataTable =\n",
              "            await google.colab.kernel.invokeFunction('convertToInteractive',\n",
              "                                                     [key], {});\n",
              "          if (!dataTable) return;\n",
              "\n",
              "          const docLinkHtml = 'Like what you see? Visit the ' +\n",
              "            '<a target=\"_blank\" href=https://colab.research.google.com/notebooks/data_table.ipynb>data table notebook</a>'\n",
              "            + ' to learn more about interactive tables.';\n",
              "          element.innerHTML = '';\n",
              "          dataTable['output_type'] = 'display_data';\n",
              "          await google.colab.output.renderOutput(dataTable, element);\n",
              "          const docLink = document.createElement('div');\n",
              "          docLink.innerHTML = docLinkHtml;\n",
              "          element.appendChild(docLink);\n",
              "        }\n",
              "      </script>\n",
              "    </div>\n",
              "  </div>\n",
              "  "
            ]
          },
          "metadata": {},
          "execution_count": 21
        }
      ],
      "source": [
        "data.head()"
      ],
      "id": "hdRjGOEz-UNP"
    },
    {
      "cell_type": "code",
      "execution_count": 22,
      "metadata": {
        "id": "AgkoEa5S-evX",
        "colab": {
          "base_uri": "https://localhost:8080/"
        },
        "outputId": "4267fce5-60a9-48ec-daf7-a329a72c765b"
      },
      "outputs": [
        {
          "output_type": "stream",
          "name": "stdout",
          "text": [
            "[('bitch', 8139), ('rt', 7319), ('t', 6525), ('n', 3872), ('128514', 3145), ('bitches', 3060), ('co', 2884), ('http', 2798), ('like', 2618), ('s', 2378)]\n"
          ]
        }
      ],
      "source": [
        "# Finding the most frequent words in the dataset\n",
        "def freqWords(tweet):\n",
        "  lines = tweet.values\n",
        "  output = []\n",
        "  for line in lines:\n",
        "    output+=line[0]\n",
        "  return FreqDist(output).most_common(10)\n",
        "\n",
        "wordFreq = freqWords(data)\n",
        "print(wordFreq)"
      ],
      "id": "AgkoEa5S-evX"
    },
    {
      "cell_type": "code",
      "execution_count": 23,
      "metadata": {
        "id": "VRIxOCbFFqti",
        "colab": {
          "base_uri": "https://localhost:8080/"
        },
        "outputId": "a0553993-409d-4100-eecf-68d74d2abda7"
      },
      "outputs": [
        {
          "output_type": "stream",
          "name": "stdout",
          "text": [
            "[7319, 6525, 3872, 3145, 2884, 2798, 2618, 2378]\n"
          ]
        }
      ],
      "source": [
        "# Removing the most frequent words in the dataset except the ones which are abusive\n",
        "def removeFreqWord(tweet):\n",
        "  output = []\n",
        "  for line in tweet:\n",
        "    if line not in frequencies:\n",
        "      output.append(line)\n",
        "  return output\n",
        "  \n",
        "\n",
        "frequencies = []\n",
        "for word, freq in wordFreq:\n",
        "  if word=='bitch' or word=='bitches':\n",
        "    pass\n",
        "  else:\n",
        "    frequencies.append(freq)\n",
        "print(frequencies)"
      ],
      "id": "VRIxOCbFFqti"
    },
    {
      "cell_type": "code",
      "execution_count": 24,
      "metadata": {
        "id": "ihGxm2TAF_eP"
      },
      "outputs": [],
      "source": [
        "data['tweet'] = data['tweet'].apply(removeFreqWord)"
      ],
      "id": "ihGxm2TAF_eP"
    },
    {
      "cell_type": "code",
      "execution_count": 25,
      "metadata": {
        "colab": {
          "base_uri": "https://localhost:8080/",
          "height": 206
        },
        "id": "3bwgZNeTGGET",
        "outputId": "c277e07c-828c-4ffa-dd42-bafc553d9cbd"
      },
      "outputs": [
        {
          "output_type": "execute_result",
          "data": {
            "text/plain": [
              "                                               tweet  label\n",
              "0  [rt, mayasolovely, woman, n, t, complain, clea...    0.0\n",
              "1  [rt, mleew17, boy, dats, cold, tyga, dwn, bad,...    1.0\n",
              "2  [rt, urkindofbrand, dawg, rt, 80sbaby4life, ev...    1.0\n",
              "3  [rt, c_g_anderson, viva_based, look, like, tra...    1.0\n",
              "4  [rt, shenikaroberts, shit, hear, might, true, ...    1.0"
            ],
            "text/html": [
              "\n",
              "  <div id=\"df-61d1d05e-bdb3-489b-9787-b6c690efcae9\">\n",
              "    <div class=\"colab-df-container\">\n",
              "      <div>\n",
              "<style scoped>\n",
              "    .dataframe tbody tr th:only-of-type {\n",
              "        vertical-align: middle;\n",
              "    }\n",
              "\n",
              "    .dataframe tbody tr th {\n",
              "        vertical-align: top;\n",
              "    }\n",
              "\n",
              "    .dataframe thead th {\n",
              "        text-align: right;\n",
              "    }\n",
              "</style>\n",
              "<table border=\"1\" class=\"dataframe\">\n",
              "  <thead>\n",
              "    <tr style=\"text-align: right;\">\n",
              "      <th></th>\n",
              "      <th>tweet</th>\n",
              "      <th>label</th>\n",
              "    </tr>\n",
              "  </thead>\n",
              "  <tbody>\n",
              "    <tr>\n",
              "      <th>0</th>\n",
              "      <td>[rt, mayasolovely, woman, n, t, complain, clea...</td>\n",
              "      <td>0.0</td>\n",
              "    </tr>\n",
              "    <tr>\n",
              "      <th>1</th>\n",
              "      <td>[rt, mleew17, boy, dats, cold, tyga, dwn, bad,...</td>\n",
              "      <td>1.0</td>\n",
              "    </tr>\n",
              "    <tr>\n",
              "      <th>2</th>\n",
              "      <td>[rt, urkindofbrand, dawg, rt, 80sbaby4life, ev...</td>\n",
              "      <td>1.0</td>\n",
              "    </tr>\n",
              "    <tr>\n",
              "      <th>3</th>\n",
              "      <td>[rt, c_g_anderson, viva_based, look, like, tra...</td>\n",
              "      <td>1.0</td>\n",
              "    </tr>\n",
              "    <tr>\n",
              "      <th>4</th>\n",
              "      <td>[rt, shenikaroberts, shit, hear, might, true, ...</td>\n",
              "      <td>1.0</td>\n",
              "    </tr>\n",
              "  </tbody>\n",
              "</table>\n",
              "</div>\n",
              "      <button class=\"colab-df-convert\" onclick=\"convertToInteractive('df-61d1d05e-bdb3-489b-9787-b6c690efcae9')\"\n",
              "              title=\"Convert this dataframe to an interactive table.\"\n",
              "              style=\"display:none;\">\n",
              "        \n",
              "  <svg xmlns=\"http://www.w3.org/2000/svg\" height=\"24px\"viewBox=\"0 0 24 24\"\n",
              "       width=\"24px\">\n",
              "    <path d=\"M0 0h24v24H0V0z\" fill=\"none\"/>\n",
              "    <path d=\"M18.56 5.44l.94 2.06.94-2.06 2.06-.94-2.06-.94-.94-2.06-.94 2.06-2.06.94zm-11 1L8.5 8.5l.94-2.06 2.06-.94-2.06-.94L8.5 2.5l-.94 2.06-2.06.94zm10 10l.94 2.06.94-2.06 2.06-.94-2.06-.94-.94-2.06-.94 2.06-2.06.94z\"/><path d=\"M17.41 7.96l-1.37-1.37c-.4-.4-.92-.59-1.43-.59-.52 0-1.04.2-1.43.59L10.3 9.45l-7.72 7.72c-.78.78-.78 2.05 0 2.83L4 21.41c.39.39.9.59 1.41.59.51 0 1.02-.2 1.41-.59l7.78-7.78 2.81-2.81c.8-.78.8-2.07 0-2.86zM5.41 20L4 18.59l7.72-7.72 1.47 1.35L5.41 20z\"/>\n",
              "  </svg>\n",
              "      </button>\n",
              "      \n",
              "  <style>\n",
              "    .colab-df-container {\n",
              "      display:flex;\n",
              "      flex-wrap:wrap;\n",
              "      gap: 12px;\n",
              "    }\n",
              "\n",
              "    .colab-df-convert {\n",
              "      background-color: #E8F0FE;\n",
              "      border: none;\n",
              "      border-radius: 50%;\n",
              "      cursor: pointer;\n",
              "      display: none;\n",
              "      fill: #1967D2;\n",
              "      height: 32px;\n",
              "      padding: 0 0 0 0;\n",
              "      width: 32px;\n",
              "    }\n",
              "\n",
              "    .colab-df-convert:hover {\n",
              "      background-color: #E2EBFA;\n",
              "      box-shadow: 0px 1px 2px rgba(60, 64, 67, 0.3), 0px 1px 3px 1px rgba(60, 64, 67, 0.15);\n",
              "      fill: #174EA6;\n",
              "    }\n",
              "\n",
              "    [theme=dark] .colab-df-convert {\n",
              "      background-color: #3B4455;\n",
              "      fill: #D2E3FC;\n",
              "    }\n",
              "\n",
              "    [theme=dark] .colab-df-convert:hover {\n",
              "      background-color: #434B5C;\n",
              "      box-shadow: 0px 1px 3px 1px rgba(0, 0, 0, 0.15);\n",
              "      filter: drop-shadow(0px 1px 2px rgba(0, 0, 0, 0.3));\n",
              "      fill: #FFFFFF;\n",
              "    }\n",
              "  </style>\n",
              "\n",
              "      <script>\n",
              "        const buttonEl =\n",
              "          document.querySelector('#df-61d1d05e-bdb3-489b-9787-b6c690efcae9 button.colab-df-convert');\n",
              "        buttonEl.style.display =\n",
              "          google.colab.kernel.accessAllowed ? 'block' : 'none';\n",
              "\n",
              "        async function convertToInteractive(key) {\n",
              "          const element = document.querySelector('#df-61d1d05e-bdb3-489b-9787-b6c690efcae9');\n",
              "          const dataTable =\n",
              "            await google.colab.kernel.invokeFunction('convertToInteractive',\n",
              "                                                     [key], {});\n",
              "          if (!dataTable) return;\n",
              "\n",
              "          const docLinkHtml = 'Like what you see? Visit the ' +\n",
              "            '<a target=\"_blank\" href=https://colab.research.google.com/notebooks/data_table.ipynb>data table notebook</a>'\n",
              "            + ' to learn more about interactive tables.';\n",
              "          element.innerHTML = '';\n",
              "          dataTable['output_type'] = 'display_data';\n",
              "          await google.colab.output.renderOutput(dataTable, element);\n",
              "          const docLink = document.createElement('div');\n",
              "          docLink.innerHTML = docLinkHtml;\n",
              "          element.appendChild(docLink);\n",
              "        }\n",
              "      </script>\n",
              "    </div>\n",
              "  </div>\n",
              "  "
            ]
          },
          "metadata": {},
          "execution_count": 25
        }
      ],
      "source": [
        "data.head()"
      ],
      "id": "3bwgZNeTGGET"
    },
    {
      "cell_type": "code",
      "execution_count": 26,
      "metadata": {
        "id": "q-mexDJIGjvi"
      },
      "outputs": [],
      "source": [
        "# Converting the verbs into its root form using Lemmatizer\n",
        "def lemmatize(tweet):\n",
        "  output = []\n",
        "  lst = ['a','r','n','v']\n",
        "  wordNetLemmatizer = WordNetLemmatizer()\n",
        "  posTag = pos_tag(tweet)\n",
        "  \n",
        "  for word, tag in posTag:\n",
        "    pos = tag[0].lower()\n",
        "\n",
        "    if pos not in lst:\n",
        "      pos = 'n'\n",
        "    output.append(wordNetLemmatizer.lemmatize(word,pos))\n",
        "  return output\n",
        "\n",
        "data['tweet'] = data['tweet'].apply(lemmatize)"
      ],
      "id": "q-mexDJIGjvi"
    },
    {
      "cell_type": "code",
      "execution_count": 27,
      "metadata": {
        "colab": {
          "base_uri": "https://localhost:8080/",
          "height": 206
        },
        "id": "s4jcG8cHJdw-",
        "outputId": "9d8df408-ba8b-44ae-9106-3d766f3153b5"
      },
      "outputs": [
        {
          "output_type": "execute_result",
          "data": {
            "text/plain": [
              "                                               tweet  label\n",
              "0  [rt, mayasolovely, woman, n, t, complain, clea...    0.0\n",
              "1  [rt, mleew17, boy, dat, cold, tyga, dwn, bad, ...    1.0\n",
              "2  [rt, urkindofbrand, dawg, rt, 80sbaby4life, ev...    1.0\n",
              "3  [rt, c_g_anderson, viva_based, look, like, tra...    1.0\n",
              "4  [rt, shenikaroberts, shit, hear, might, true, ...    1.0"
            ],
            "text/html": [
              "\n",
              "  <div id=\"df-f59c6580-a5bb-4f19-a315-4865f795f89a\">\n",
              "    <div class=\"colab-df-container\">\n",
              "      <div>\n",
              "<style scoped>\n",
              "    .dataframe tbody tr th:only-of-type {\n",
              "        vertical-align: middle;\n",
              "    }\n",
              "\n",
              "    .dataframe tbody tr th {\n",
              "        vertical-align: top;\n",
              "    }\n",
              "\n",
              "    .dataframe thead th {\n",
              "        text-align: right;\n",
              "    }\n",
              "</style>\n",
              "<table border=\"1\" class=\"dataframe\">\n",
              "  <thead>\n",
              "    <tr style=\"text-align: right;\">\n",
              "      <th></th>\n",
              "      <th>tweet</th>\n",
              "      <th>label</th>\n",
              "    </tr>\n",
              "  </thead>\n",
              "  <tbody>\n",
              "    <tr>\n",
              "      <th>0</th>\n",
              "      <td>[rt, mayasolovely, woman, n, t, complain, clea...</td>\n",
              "      <td>0.0</td>\n",
              "    </tr>\n",
              "    <tr>\n",
              "      <th>1</th>\n",
              "      <td>[rt, mleew17, boy, dat, cold, tyga, dwn, bad, ...</td>\n",
              "      <td>1.0</td>\n",
              "    </tr>\n",
              "    <tr>\n",
              "      <th>2</th>\n",
              "      <td>[rt, urkindofbrand, dawg, rt, 80sbaby4life, ev...</td>\n",
              "      <td>1.0</td>\n",
              "    </tr>\n",
              "    <tr>\n",
              "      <th>3</th>\n",
              "      <td>[rt, c_g_anderson, viva_based, look, like, tra...</td>\n",
              "      <td>1.0</td>\n",
              "    </tr>\n",
              "    <tr>\n",
              "      <th>4</th>\n",
              "      <td>[rt, shenikaroberts, shit, hear, might, true, ...</td>\n",
              "      <td>1.0</td>\n",
              "    </tr>\n",
              "  </tbody>\n",
              "</table>\n",
              "</div>\n",
              "      <button class=\"colab-df-convert\" onclick=\"convertToInteractive('df-f59c6580-a5bb-4f19-a315-4865f795f89a')\"\n",
              "              title=\"Convert this dataframe to an interactive table.\"\n",
              "              style=\"display:none;\">\n",
              "        \n",
              "  <svg xmlns=\"http://www.w3.org/2000/svg\" height=\"24px\"viewBox=\"0 0 24 24\"\n",
              "       width=\"24px\">\n",
              "    <path d=\"M0 0h24v24H0V0z\" fill=\"none\"/>\n",
              "    <path d=\"M18.56 5.44l.94 2.06.94-2.06 2.06-.94-2.06-.94-.94-2.06-.94 2.06-2.06.94zm-11 1L8.5 8.5l.94-2.06 2.06-.94-2.06-.94L8.5 2.5l-.94 2.06-2.06.94zm10 10l.94 2.06.94-2.06 2.06-.94-2.06-.94-.94-2.06-.94 2.06-2.06.94z\"/><path d=\"M17.41 7.96l-1.37-1.37c-.4-.4-.92-.59-1.43-.59-.52 0-1.04.2-1.43.59L10.3 9.45l-7.72 7.72c-.78.78-.78 2.05 0 2.83L4 21.41c.39.39.9.59 1.41.59.51 0 1.02-.2 1.41-.59l7.78-7.78 2.81-2.81c.8-.78.8-2.07 0-2.86zM5.41 20L4 18.59l7.72-7.72 1.47 1.35L5.41 20z\"/>\n",
              "  </svg>\n",
              "      </button>\n",
              "      \n",
              "  <style>\n",
              "    .colab-df-container {\n",
              "      display:flex;\n",
              "      flex-wrap:wrap;\n",
              "      gap: 12px;\n",
              "    }\n",
              "\n",
              "    .colab-df-convert {\n",
              "      background-color: #E8F0FE;\n",
              "      border: none;\n",
              "      border-radius: 50%;\n",
              "      cursor: pointer;\n",
              "      display: none;\n",
              "      fill: #1967D2;\n",
              "      height: 32px;\n",
              "      padding: 0 0 0 0;\n",
              "      width: 32px;\n",
              "    }\n",
              "\n",
              "    .colab-df-convert:hover {\n",
              "      background-color: #E2EBFA;\n",
              "      box-shadow: 0px 1px 2px rgba(60, 64, 67, 0.3), 0px 1px 3px 1px rgba(60, 64, 67, 0.15);\n",
              "      fill: #174EA6;\n",
              "    }\n",
              "\n",
              "    [theme=dark] .colab-df-convert {\n",
              "      background-color: #3B4455;\n",
              "      fill: #D2E3FC;\n",
              "    }\n",
              "\n",
              "    [theme=dark] .colab-df-convert:hover {\n",
              "      background-color: #434B5C;\n",
              "      box-shadow: 0px 1px 3px 1px rgba(0, 0, 0, 0.15);\n",
              "      filter: drop-shadow(0px 1px 2px rgba(0, 0, 0, 0.3));\n",
              "      fill: #FFFFFF;\n",
              "    }\n",
              "  </style>\n",
              "\n",
              "      <script>\n",
              "        const buttonEl =\n",
              "          document.querySelector('#df-f59c6580-a5bb-4f19-a315-4865f795f89a button.colab-df-convert');\n",
              "        buttonEl.style.display =\n",
              "          google.colab.kernel.accessAllowed ? 'block' : 'none';\n",
              "\n",
              "        async function convertToInteractive(key) {\n",
              "          const element = document.querySelector('#df-f59c6580-a5bb-4f19-a315-4865f795f89a');\n",
              "          const dataTable =\n",
              "            await google.colab.kernel.invokeFunction('convertToInteractive',\n",
              "                                                     [key], {});\n",
              "          if (!dataTable) return;\n",
              "\n",
              "          const docLinkHtml = 'Like what you see? Visit the ' +\n",
              "            '<a target=\"_blank\" href=https://colab.research.google.com/notebooks/data_table.ipynb>data table notebook</a>'\n",
              "            + ' to learn more about interactive tables.';\n",
              "          element.innerHTML = '';\n",
              "          dataTable['output_type'] = 'display_data';\n",
              "          await google.colab.output.renderOutput(dataTable, element);\n",
              "          const docLink = document.createElement('div');\n",
              "          docLink.innerHTML = docLinkHtml;\n",
              "          element.appendChild(docLink);\n",
              "        }\n",
              "      </script>\n",
              "    </div>\n",
              "  </div>\n",
              "  "
            ]
          },
          "metadata": {},
          "execution_count": 27
        }
      ],
      "source": [
        "data.head()"
      ],
      "id": "s4jcG8cHJdw-"
    },
    {
      "cell_type": "code",
      "execution_count": 28,
      "metadata": {
        "id": "ORV5k-tmLtFx"
      },
      "outputs": [],
      "source": [
        "# Removing HTML tags from the dataset\n",
        "def removeTag(tweet):\n",
        "  tweet=' '.join(tweet)\n",
        "  return re.compile('<.*?>').sub(r'',tweet)\n",
        "\n",
        "data['tweet'] = data['tweet'].apply(removeTag)"
      ],
      "id": "ORV5k-tmLtFx"
    },
    {
      "cell_type": "code",
      "execution_count": 29,
      "metadata": {
        "id": "fReurYg9J43h"
      },
      "outputs": [],
      "source": [
        "# def removeURL(s):\n",
        "#   df['result'] = df['result'].str.replace(r'\\D', '')\n",
        "#   return re.compile(r'https?://\\S+|www\\.\\S+').sub(r'',tweet)\n",
        "\n",
        "#data['tweet'] = data['tweet'].apply(removeURL)"
      ],
      "id": "fReurYg9J43h"
    },
    {
      "cell_type": "code",
      "execution_count": 30,
      "metadata": {
        "id": "lbUUW4dCKnoa"
      },
      "outputs": [],
      "source": [
        "# Removing the substrings where http is present\n",
        "data['tweet'] = data['tweet'].str.replace(r'http', '')"
      ],
      "id": "lbUUW4dCKnoa"
    },
    {
      "cell_type": "code",
      "execution_count": 31,
      "metadata": {
        "id": "2c2268bd",
        "colab": {
          "base_uri": "https://localhost:8080/"
        },
        "outputId": "70df8d79-12bb-415d-a9d1-969de732bde6"
      },
      "outputs": [
        {
          "output_type": "stream",
          "name": "stdout",
          "text": [
            "(23353,)\n",
            "(23353,)\n"
          ]
        }
      ],
      "source": [
        "# Dividing the dataset into features and target\n",
        "x= data['tweet']\n",
        "y = data['label']\n",
        "\n",
        "print(x.shape)\n",
        "print(y.shape)"
      ],
      "id": "2c2268bd"
    },
    {
      "cell_type": "code",
      "execution_count": 32,
      "metadata": {
        "colab": {
          "base_uri": "https://localhost:8080/"
        },
        "id": "01c3af06",
        "outputId": "635e7eb6-f3d6-41df-e247-9025009f612d"
      },
      "outputs": [
        {
          "output_type": "stream",
          "name": "stdout",
          "text": [
            "(16347,)\n",
            "(7006,)\n"
          ]
        }
      ],
      "source": [
        "# Using Train_test_split to split the data into training and testing\n",
        "X_train, X_test, y_train, y_test = train_test_split(x,y, test_size=0.3, random_state=42)\n",
        "print(X_train.shape)\n",
        "print(X_test.shape)"
      ],
      "id": "01c3af06"
    },
    {
      "cell_type": "code",
      "source": [
        "# Function to calculate various metrics\n",
        "def metric_calculation(y_test,y_pred):\n",
        "  print(\"Accuracy  :  \",mt.accuracy_score(y_test,y_pred))\n",
        "  print(\"Precision :  \",mt.precision_score(y_test,y_pred))\n",
        "  print(\"Recall    :  \",mt.recall_score(y_test,y_pred))\n",
        "  print(\"F1-score  :  \",mt.f1_score(y_test,y_pred))\n",
        "  print(\"Confusion matrix      : \\n \",mt.confusion_matrix(y_test,y_pred))\n",
        "  print(\"Classification report : \\n\",mt.classification_report(y_test,y_pred))"
      ],
      "metadata": {
        "id": "DI1vpyTlXJJa"
      },
      "id": "DI1vpyTlXJJa",
      "execution_count": 33,
      "outputs": []
    },
    {
      "cell_type": "code",
      "execution_count": 34,
      "metadata": {
        "id": "95a660c6",
        "colab": {
          "base_uri": "https://localhost:8080/"
        },
        "outputId": "833735af-edbb-4bda-f686-52fd97060679"
      },
      "outputs": [
        {
          "output_type": "stream",
          "name": "stdout",
          "text": [
            "(16347, 24867)\n",
            "(7006, 24867)\n"
          ]
        }
      ],
      "source": [
        "# Transforming a text into a vector on the basis of the frequency of each word\n",
        "cv=CountVectorizer()\n",
        "x_train=cv.fit_transform(X_train)\n",
        "x_test = cv.transform(X_test)\n",
        "\n",
        "print(x_train.shape)\n",
        "print(x_test.shape)"
      ],
      "id": "95a660c6"
    },
    {
      "cell_type": "code",
      "execution_count": 35,
      "metadata": {
        "id": "e291aba5"
      },
      "outputs": [],
      "source": [
        "# Typecasting to integer\n",
        "y_train = y_train.astype('int')"
      ],
      "id": "e291aba5"
    },
    {
      "cell_type": "code",
      "execution_count": 36,
      "metadata": {
        "colab": {
          "base_uri": "https://localhost:8080/"
        },
        "id": "03aba216",
        "outputId": "9054b15e-7334-4402-b72c-15e72a924c10"
      },
      "outputs": [
        {
          "output_type": "stream",
          "name": "stdout",
          "text": [
            "Accuracy  :   0.9132172423636883\n",
            "Precision :   0.9148833467417539\n",
            "Recall    :   0.9862966175195144\n",
            "F1-score  :   0.9492487479131887\n",
            "Confusion matrix      : \n",
            "  [[ 712  529]\n",
            " [  79 5686]]\n",
            "Classification report : \n",
            "               precision    recall  f1-score   support\n",
            "\n",
            "         0.0       0.90      0.57      0.70      1241\n",
            "         1.0       0.91      0.99      0.95      5765\n",
            "\n",
            "    accuracy                           0.91      7006\n",
            "   macro avg       0.91      0.78      0.83      7006\n",
            "weighted avg       0.91      0.91      0.91      7006\n",
            "\n"
          ]
        }
      ],
      "source": [
        "# Using Naive Bayes to train a model and testing its accuracy\n",
        "nb = MultinomialNB()\n",
        "nb.fit(x_train,y_train)\n",
        "y_pred = nb.predict(x_test)\n",
        "metric_calculation(y_test,y_pred)"
      ],
      "id": "03aba216"
    },
    {
      "cell_type": "code",
      "source": [
        "# Using SVM to train a model and testing its accuracy\n",
        "X_train, X_test, y_train, y_test = train_test_split(x,y, test_size=0.25, random_state=21)\n",
        "cv=CountVectorizer()\n",
        "x_train=cv.fit_transform(X_train)\n",
        "x_test = cv.transform(X_test)\n",
        "svc=SVC()\n",
        "svc.fit(x_train,y_train)\n",
        "y_pred_svm=svc.predict(x_test)\n",
        "metric_calculation(y_test,y_pred_svm)"
      ],
      "metadata": {
        "colab": {
          "base_uri": "https://localhost:8080/"
        },
        "id": "9a-1v5Lxad5N",
        "outputId": "9fba8021-18a7-4bfe-fc0e-cfd6d40dd290"
      },
      "id": "9a-1v5Lxad5N",
      "execution_count": 37,
      "outputs": [
        {
          "output_type": "stream",
          "name": "stdout",
          "text": [
            "Accuracy  :   0.95992464463093\n",
            "Precision :   0.9861907796898237\n",
            "Recall    :   0.9648721679484514\n",
            "F1-score  :   0.9754150031519226\n",
            "Confusion matrix      : \n",
            "  [[ 963   65]\n",
            " [ 169 4642]]\n",
            "Classification report : \n",
            "               precision    recall  f1-score   support\n",
            "\n",
            "         0.0       0.85      0.94      0.89      1028\n",
            "         1.0       0.99      0.96      0.98      4811\n",
            "\n",
            "    accuracy                           0.96      5839\n",
            "   macro avg       0.92      0.95      0.93      5839\n",
            "weighted avg       0.96      0.96      0.96      5839\n",
            "\n"
          ]
        }
      ]
    },
    {
      "cell_type": "code",
      "source": [
        "# Using Grid Search to find the best parameters for DecisionTree Classifier\n",
        "X_train, X_test, y_train, y_test = train_test_split(x,y, test_size=0.25, random_state=31)\n",
        "cv=CountVectorizer()\n",
        "x_train=cv.fit_transform(X_train)\n",
        "x_test = cv.transform(X_test)\n",
        "max_features = ['auto', 'sqrt', 'log2']\n",
        "max_depth = [5,6,7,8]\n",
        "criterion = ['gini', 'entropy']\n",
        "dt = DecisionTreeClassifier()\n",
        "gs_dt = GridSearchCV(dt, param_grid = { 'max_features':max_features,'max_depth':max_depth,'criterion':criterion})\n",
        "gs_dt.fit(x_train,y_train)\n",
        "\n",
        "gs_dt.best_params_"
      ],
      "metadata": {
        "id": "dfjd6YIcQHXE",
        "colab": {
          "base_uri": "https://localhost:8080/"
        },
        "outputId": "79366b5a-b541-4f5c-9c99-3b3235954494"
      },
      "id": "dfjd6YIcQHXE",
      "execution_count": 38,
      "outputs": [
        {
          "output_type": "execute_result",
          "data": {
            "text/plain": [
              "{'criterion': 'gini', 'max_depth': 6, 'max_features': 'auto'}"
            ]
          },
          "metadata": {},
          "execution_count": 38
        }
      ]
    },
    {
      "cell_type": "code",
      "source": [
        "# Using the above estimators to train a Decision Tree model and testing its accuracy\n",
        "dt_best= DecisionTreeClassifier(max_depth=8, max_features='auto')\n",
        "dt_best.fit(x_train,y_train)\n",
        "y_pred_dt=dt_best.predict(x_test)\n",
        "\n",
        "metric_calculation(y_test,y_pred_dt)"
      ],
      "metadata": {
        "colab": {
          "base_uri": "https://localhost:8080/"
        },
        "id": "hr_FfTmlQ9sH",
        "outputId": "49464630-1921-456b-b049-b97933168449"
      },
      "id": "hr_FfTmlQ9sH",
      "execution_count": 39,
      "outputs": [
        {
          "output_type": "stream",
          "name": "stdout",
          "text": [
            "Accuracy  :   0.8277102243534852\n",
            "Precision :   0.8276748971193416\n",
            "Recall    :   0.9997928748964374\n",
            "F1-score  :   0.9056285178236397\n",
            "Confusion matrix      : \n",
            "  [[   6 1005]\n",
            " [   1 4827]]\n",
            "Classification report : \n",
            "               precision    recall  f1-score   support\n",
            "\n",
            "         0.0       0.86      0.01      0.01      1011\n",
            "         1.0       0.83      1.00      0.91      4828\n",
            "\n",
            "    accuracy                           0.83      5839\n",
            "   macro avg       0.84      0.50      0.46      5839\n",
            "weighted avg       0.83      0.83      0.75      5839\n",
            "\n"
          ]
        }
      ]
    },
    {
      "cell_type": "code",
      "source": [
        "# Using Grid Search to find the best parameters for RandomForest Classifier\n",
        "X_train, X_test, y_train, y_test = train_test_split(x,y, test_size=0.2, random_state=42)\n",
        "cv=CountVectorizer()\n",
        "x_train=cv.fit_transform(X_train)\n",
        "x_test = cv.transform(X_test)\n",
        "# rf= RandomForestClassifier()\n",
        "# n_estimators = [200, 500]\n",
        "# max_features = ['auto', 'sqrt', 'log2']\n",
        "# max_depth = [5,7]\n",
        "# criterion = ['gini', 'entropy']\n",
        "# gs = GridSearchCV(rf, param_grid = {'n_estimators':n_estimators, 'max_features':max_features,'max_depth':max_depth,'criterion':criterion})\n",
        "# gs.fit(x_train,y_train)\n",
        "\n",
        "# gs.best_params_"
      ],
      "metadata": {
        "id": "MaW_rKC3AWH1"
      },
      "id": "MaW_rKC3AWH1",
      "execution_count": 40,
      "outputs": []
    },
    {
      "cell_type": "code",
      "source": [
        "# Using the above estimators to train a RandomForest model and testing its accuracy\n",
        "\n",
        "rf_best= RandomForestClassifier(max_depth=5, n_estimators=200)\n",
        "rf_best.fit(x_train,y_train)\n",
        "y_pred_rf=rf_best.predict(x_test)\n",
        "\n",
        "metric_calculation(y_test,y_pred_rf)"
      ],
      "metadata": {
        "colab": {
          "base_uri": "https://localhost:8080/"
        },
        "id": "ttRgFA-eqpBZ",
        "outputId": "72b2045c-a3fd-4f70-c2f8-954eedb2bb3b"
      },
      "id": "ttRgFA-eqpBZ",
      "execution_count": 41,
      "outputs": [
        {
          "output_type": "stream",
          "name": "stdout",
          "text": [
            "Accuracy  :   0.8238064654249625\n",
            "Precision :   0.8238064654249625\n",
            "Recall    :   1.0\n",
            "F1-score  :   0.9033924169503463\n",
            "Confusion matrix      : \n",
            "  [[   0  823]\n",
            " [   0 3848]]\n",
            "Classification report : \n",
            "               precision    recall  f1-score   support\n",
            "\n",
            "         0.0       0.00      0.00      0.00       823\n",
            "         1.0       0.82      1.00      0.90      3848\n",
            "\n",
            "    accuracy                           0.82      4671\n",
            "   macro avg       0.41      0.50      0.45      4671\n",
            "weighted avg       0.68      0.82      0.74      4671\n",
            "\n"
          ]
        }
      ]
    },
    {
      "cell_type": "code",
      "source": [
        "# Using Grid Search to find the best parameters for Logistic Regression\n",
        "X_train, X_test, y_train, y_test = train_test_split(x,y, test_size=0.2, random_state=42)\n",
        "cv=CountVectorizer()\n",
        "x_train=cv.fit_transform(X_train)\n",
        "x_test = cv.transform(X_test)\n",
        "grid={ \"penalty\":[\"l1\",\"l2\"]}# l1 lasso l2 ridge\n",
        "logreg=LogisticRegression()\n",
        "logreg_cv=GridSearchCV(logreg,grid,cv=10)\n",
        "logreg_cv.fit(x_train,y_train)"
      ],
      "metadata": {
        "colab": {
          "base_uri": "https://localhost:8080/"
        },
        "id": "oeUY4pmbad6b",
        "outputId": "782ea866-6b66-4642-dc44-10f07803edb7"
      },
      "id": "oeUY4pmbad6b",
      "execution_count": 42,
      "outputs": [
        {
          "output_type": "execute_result",
          "data": {
            "text/plain": [
              "GridSearchCV(cv=10, estimator=LogisticRegression(),\n",
              "             param_grid={'penalty': ['l1', 'l2']})"
            ]
          },
          "metadata": {},
          "execution_count": 42
        }
      ]
    },
    {
      "cell_type": "code",
      "source": [
        "logreg_cv.best_params_"
      ],
      "metadata": {
        "colab": {
          "base_uri": "https://localhost:8080/"
        },
        "id": "tsegHcruRbA-",
        "outputId": "833c46cb-259b-45e4-b4f5-d1046ab5cde4"
      },
      "id": "tsegHcruRbA-",
      "execution_count": 43,
      "outputs": [
        {
          "output_type": "execute_result",
          "data": {
            "text/plain": [
              "{'penalty': 'l2'}"
            ]
          },
          "metadata": {},
          "execution_count": 43
        }
      ]
    },
    {
      "cell_type": "code",
      "source": [
        "# Using the above estimators to train a Logistic Regression model and testing its accuracy\n",
        "logreg_best= LogisticRegression(penalty= 'l2')\n",
        "logreg_best.fit(x_train,y_train)\n",
        "y_pred_logreg=logreg_best.predict(x_test)\n",
        "\n",
        "metric_calculation(y_test,y_pred_logreg)"
      ],
      "metadata": {
        "colab": {
          "base_uri": "https://localhost:8080/"
        },
        "id": "egG_fiPHrFvN",
        "outputId": "e222a8a1-5df7-4065-8e7d-d4faa112ca28"
      },
      "id": "egG_fiPHrFvN",
      "execution_count": 44,
      "outputs": [
        {
          "output_type": "stream",
          "name": "stdout",
          "text": [
            "Accuracy  :   0.9633911368015414\n",
            "Precision :   0.9865043662344536\n",
            "Recall    :   0.9688149688149689\n",
            "F1-score  :   0.9775796512390194\n",
            "Confusion matrix      : \n",
            "  [[ 772   51]\n",
            " [ 120 3728]]\n",
            "Classification report : \n",
            "               precision    recall  f1-score   support\n",
            "\n",
            "         0.0       0.87      0.94      0.90       823\n",
            "         1.0       0.99      0.97      0.98      3848\n",
            "\n",
            "    accuracy                           0.96      4671\n",
            "   macro avg       0.93      0.95      0.94      4671\n",
            "weighted avg       0.97      0.96      0.96      4671\n",
            "\n"
          ]
        }
      ]
    },
    {
      "cell_type": "code",
      "source": [
        "# Using Voting Classifier with Logistic Regression , SVM and Random Forest to get a better model\n",
        "X_train, X_test, y_train, y_test = train_test_split(x,y, test_size=0.3, random_state=True)\n",
        "cv=CountVectorizer()\n",
        "x_train=cv.fit_transform(X_train)\n",
        "x_test = cv.transform(X_test)\n",
        "vc=VotingClassifier(estimators=[('logreg_best',logreg_best),('svc',svc),('nb',nb)],voting='hard')\n",
        "vc.fit(x_train,y_train)\n",
        "y_pred_vc=vc.predict(x_test)\n",
        "\n",
        "metric_calculation(y_test,y_pred_vc)"
      ],
      "metadata": {
        "colab": {
          "base_uri": "https://localhost:8080/"
        },
        "id": "JOLMrQMsvw7O",
        "outputId": "391bf843-8d3e-4b87-c571-64e7f3476526"
      },
      "id": "JOLMrQMsvw7O",
      "execution_count": 45,
      "outputs": [
        {
          "output_type": "stream",
          "name": "stdout",
          "text": [
            "Accuracy  :   0.9620325435341136\n",
            "Precision :   0.9799613288802953\n",
            "Recall    :   0.9734590536057273\n",
            "F1-score  :   0.9766993693062369\n",
            "Confusion matrix      : \n",
            "  [[1165  114]\n",
            " [ 152 5575]]\n",
            "Classification report : \n",
            "               precision    recall  f1-score   support\n",
            "\n",
            "         0.0       0.88      0.91      0.90      1279\n",
            "         1.0       0.98      0.97      0.98      5727\n",
            "\n",
            "    accuracy                           0.96      7006\n",
            "   macro avg       0.93      0.94      0.94      7006\n",
            "weighted avg       0.96      0.96      0.96      7006\n",
            "\n"
          ]
        }
      ]
    },
    {
      "cell_type": "markdown",
      "source": [
        "**Testing with real-time data using Twitter API**"
      ],
      "metadata": {
        "id": "izGSwcAeBSkL"
      },
      "id": "izGSwcAeBSkL"
    },
    {
      "cell_type": "code",
      "execution_count": 46,
      "metadata": {
        "id": "8c935e93"
      },
      "outputs": [],
      "source": [
        "# Authenticating Twitter API\n",
        "consumer_key = 'HZRzp3wipiTD7mPuHb6TbayFO'\n",
        "consumer_secret = 'vfsSVritLxSC7traklojC7knAi4qGDPzrFsbCsAzCqfEyeNXRH'\n",
        "access_token = '1593233208648224768-CUfwIsUxxZhZD1mKzRvPIn7fSmar99'\n",
        "access_token_secret = 'stK9CfoU21OEsF3T2hwO7DnelvxCpNWxhe1tq2CAB7ScJ'\n",
        "\n",
        "auth=tweepy.OAuthHandler(consumer_key,consumer_secret)\n",
        "auth.set_access_token(access_token,access_token_secret)\n",
        "api=tweepy.API(auth)"
      ],
      "id": "8c935e93"
    },
    {
      "cell_type": "code",
      "source": [
        "# Setting the location as London\n",
        "closest_loc = api.trends_closest(51.5072, 0.1276)\n",
        "closest_loc[0]"
      ],
      "metadata": {
        "colab": {
          "base_uri": "https://localhost:8080/"
        },
        "id": "Hl9iNXPs0J5Y",
        "outputId": "de4606bd-afd9-49ed-a6b4-117947ea8b1e"
      },
      "id": "Hl9iNXPs0J5Y",
      "execution_count": 47,
      "outputs": [
        {
          "output_type": "execute_result",
          "data": {
            "text/plain": [
              "{'name': 'London',\n",
              " 'placeType': {'code': 7, 'name': 'Town'},\n",
              " 'url': 'http://where.yahooapis.com/v1/place/44418',\n",
              " 'parentid': 23424975,\n",
              " 'country': 'United Kingdom',\n",
              " 'woeid': 44418,\n",
              " 'countryCode': 'GB'}"
            ]
          },
          "metadata": {},
          "execution_count": 47
        }
      ]
    },
    {
      "cell_type": "code",
      "execution_count": 66,
      "metadata": {
        "colab": {
          "base_uri": "https://localhost:8080/"
        },
        "id": "e60208a0",
        "outputId": "589cd2eb-2759-4177-b080-88bd3781d1b9"
      },
      "outputs": [
        {
          "output_type": "stream",
          "name": "stdout",
          "text": [
            "#r4today\n",
            "#NursesStrike\n",
            "#santaliveread\n",
            "#NHSWorkersNeedAPayrise\n",
            "#HarryandMeganNetflix\n",
            "#thursdayvibes\n",
            "#12DaysOfTechmas\n",
            "#EnoughIsEnough\n",
            "#SafeStaffingSavesLives\n",
            "#SupportOurNHSWorkers\n"
          ]
        }
      ],
      "source": [
        "# Getting the trending hashtags from London location\n",
        "l=[]\n",
        "trends = api.trends_place(closest_loc[0][\"woeid\"])\n",
        "\n",
        "for i in range(47): \n",
        "  s=trends[0][\"trends\"][i][\"name\"]\n",
        "  if s[0]=='#':\n",
        "    print(s)\n",
        "    l.append(s)"
      ],
      "id": "e60208a0"
    },
    {
      "cell_type": "code",
      "execution_count": 79,
      "metadata": {
        "colab": {
          "base_uri": "https://localhost:8080/"
        },
        "id": "a30b0d6f",
        "outputId": "1e0cb8c7-d831-4628-83af-36afb06f6435"
      },
      "outputs": [
        {
          "output_type": "stream",
          "name": "stdout",
          "text": [
            "RT @feistywomankent: A reminder from June 2020 - claps don’t pay the supermarket bills. #SupportTheNurses #FairPayforNursing #NursesStrike…\n",
            "___________________\n",
            "RT @Hepworthclare: Disgraceful behaviour from Nick Robinson #r4today interviewing the RCN General Secretary.\n",
            "No forensic probing to establi…\n",
            "___________________\n",
            "RT @rjcruthers: Woken by Nick Robinson (annual salary £270,000 - £274,999) getting hot under the collar about nurses asking for more during…\n",
            "___________________\n",
            "̗#Motivation 👍\n",
            "\n",
            "#acoty2022 #netizensreport #iranrevolution #trading #exchange #kids #r4today #80s https://t.co/HbQ7wYUeh1\n",
            "___________________\n",
            "RT @ApeBaffled: Tory PR man Nick Robinson on £275k quoting Sunak's 'Independent, Independent, Independent' on #r4today re #NursesStrike who…\n",
            "___________________\n",
            "RT @AlecHitchman1: Economics \n",
            "\n",
            "Income £20.0\n",
            "Outgoings £19.6d\n",
            "Outcome happiness. \n",
            "\n",
            "Income £20.0\n",
            "Outgoings £20.6d\n",
            "Outcome misery. \n",
            "\n",
            "Dickens k…\n",
            "___________________\n",
            "RT @The_ChrisShaw: Strong interview on @BBCr4today with Rose Hudson-Wilkin @DoverBishop pleading for compassion in dealing with the small b…\n",
            "___________________\n",
            "RT @feistywomankent: A reminder from June 2020 - claps don’t pay the supermarket bills. #SupportTheNurses #FairPayforNursing #NursesStrike…\n",
            "___________________\n",
            "RT @rjcruthers: Woken by Nick Robinson (annual salary £270,000 - £274,999) getting hot under the collar about nurses asking for more during…\n",
            "___________________\n",
            "RT @ZoeJardiniere: Story on #r4today about how misinformed the public is about refugees.\n",
            "A case in point, this dude in my mentions who, lik…\n",
            "___________________\n",
            "RT @Candistore: Mick Lynch speaking for me &amp; women like me who do feel safer when trains are staffed by guards. Justin Webb feels safe so t…\n",
            "___________________\n",
            "RT @feistywomankent: A reminder from June 2020 - claps don’t pay the supermarket bills. #SupportTheNurses #FairPayforNursing #NursesStrike…\n",
            "___________________\n",
            "RT @TonyDowling: Standing in solidarity with @theRCN #nurses on strike today and with all our magnificent #NHS staff!! \n",
            "#r4today #RCNStrike…\n",
            "___________________\n",
            "RT @TonyPitchford: Perhaps Nick Robinson could save his overly aggressive questions for the government that caused the conditions for nurse…\n",
            "___________________\n",
            "RT @stand_for_all: For years the government has pushed false information about asylum seekers. They aren't required to remain in the \"first…\n",
            "___________________\n",
            "RT @thesarahdriver: Nurses on strike are not putting patients at risk. There are no walk outs from acute areas (which should be obvious - t…\n",
            "___________________\n",
            "RT @THemingford: Had we not had 12 years of Tory failure, greed, theft, corruption and lying, the UK would be in a much position across the…\n",
            "___________________\n",
            "Today I can't join the #NursesStrike as my Trust didn't meet threshold &amp; I'm laid up poorly. I stand by my colleagu… https://t.co/mxENwHxLks\n",
            "___________________\n",
            "RT @feistywomankent: A reminder from June 2020 - claps don’t pay the supermarket bills. #SupportTheNurses #FairPayforNursing #NursesStrike…\n",
            "___________________\n",
            "RT @sueperkins: Nurses, always 💙 #NursesStrike\n",
            "___________________\n",
            "#NursesStrike \n",
            "Fuck off.\n",
            "___________________\n",
            "RT @ShaunLintern: Every 10% increase in degree nurses reduces mortality by 7% #NursesStrike https://t.co/laHJ3VTY51\n",
            "___________________\n",
            "RT @MannieQuinn1: Starmer needs to piss off out of politics if he can't support the #NursesStrike.\n",
            "___________________\n",
            "RT @ShelaghFogarty: From 1pm @LBC \n",
            "- I want to pay tribute to #ZaraAleena and her loved ones. - How do we neutralise the threat from violen…\n",
            "___________________\n",
            "RT @SouthWales_News: ‘We’ve been left with no choice’. Kate is a striking nurse from @RCNWales and told us why she is balloting in this #Nu…\n",
            "___________________\n",
            "RT @THemingford: Vulnerable disabled man, needs f/t care, who needs heating, no choice in electricity usage, current bill is £900 \n",
            "\n",
            "That £1…\n",
            "___________________\n",
            "RT @THemingford: Never forget the loved ones needlessly lost because of the ghouls pictured below. \n",
            "\n",
            "Nurses were there for our loved, riski…\n",
            "___________________\n",
            "RT @Nurseborisbash: Before the vilification of nurses reaches full swing, I thought I'd inject the truth that will be lost.\n",
            "On the picket l…\n",
            "___________________\n",
            "RT @doctor_oxford: The vacancy rate among NHS nurses in England is 12%.\n",
            "\n",
            "12%.\n",
            "\n",
            "Even if you don’t think nurses deserve a fair wage for the s…\n",
            "___________________\n",
            "RT @Nurseborisbash: Before the vilification of nurses reaches full swing, I thought I'd inject the truth that will be lost.\n",
            "On the picket l…\n",
            "___________________\n",
            "Year 1 have been spending some time with Santa this morning. Thank you for our shout out on #Santaliveread 🎅 https://t.co/1bsP8th3kh\n",
            "___________________\n",
            "PLEASE can we have a shoutout to 𝑨𝑳𝑳 𝑪𝑯𝑰𝑳𝑫𝑹𝑬𝑵 &amp; 𝑺𝑻𝑨𝑭𝑭 at St. Stephen’s Primary School in Audenshaw, Greater Manches… https://t.co/SDDouuyq5W\n",
            "___________________\n",
            "Year 1 are spending some time catching up with Santa this morning, before he begins his super long journey next wee… https://t.co/UIJg2raqYK\n",
            "___________________\n",
            "RT @FforddDyffryn: Dosbarth Siabod getting ready for the live feed with Santa in North Pole #christmasclassic #santaliveread 🎅🎄 https://t.c…\n",
            "___________________\n",
            "#santaliveread Big shout out to Class 2 at Bempton Primary School who have had a fantastic term and done an amazing… https://t.co/btN0VHKv4S\n",
            "___________________\n",
            "RT @ststephensaud: Another question for Santa from our children at Stephen’s primary school @ststephensaud \n",
            "\n",
            "#santaliveread \n",
            "\n",
            "❤️🎅🏼❤️🎅🏼❤️ ht…\n",
            "___________________\n",
            "RT @wilmot111: #santaliveread great singing from Reception class St Stephens CE Primary Audenshaw @ststephensaud https://t.co/7rxRMlWbtr\n",
            "___________________\n",
            "#santaliveread Big shout out to Class 2 at Bempton Primary School who have had a fantastic term and done an amazing… https://t.co/YKWrdKEkkG\n",
            "___________________\n",
            "#santaliveread please can we have a big shout out to Class 2 at Bempton Primary School who have had a fantastic ter… https://t.co/VqpQ9ndL5A\n",
            "___________________\n",
            "Thank you from St Vincent’s Primary School #santaliveread\n",
            "___________________\n",
            "#santaliveread Big shout out to Class 2 at Bempton Primary School who have had a fantastic term and done an amazing… https://t.co/nesFb5krmk\n",
            "___________________\n",
            "RT @monica_primary: @primaryliveuk Please say a massive hello to our pupils from St Monica Primary School. Our pupils have all been amazing…\n",
            "___________________\n",
            "Thank you Santa 🎅🏽 for our @ByfleetPrimary #shoutout as part of #SantaLiveRead today! https://t.co/8xhoeLEdjD\n",
            "___________________\n",
            "Please say Hello to Owls and Eagle class at St Monica Primary School #santaliveread\n",
            "___________________\n",
            "Please say hello to Beech Class in Malvern! We enjoyed singing and dancing to your Christmas tunes! #santaliveread https://t.co/ksGA3i9SJA\n",
            "___________________\n"
          ]
        }
      ],
      "source": [
        "# getting the recent tweets on the top 3 trending hashtags\n",
        "k=[]\n",
        "main=[]\n",
        "for j in range(3):\n",
        "    for tweet in tweepy.Cursor(api.search, q=l[j]).items(15):\n",
        "        print(tweet.text)\n",
        "        k.append(tweet.text)\n",
        "        \n",
        "        print(\"___________________\")\n",
        "  "
      ],
      "id": "a30b0d6f"
    },
    {
      "cell_type": "code",
      "execution_count": 50,
      "metadata": {
        "id": "0e197345"
      },
      "outputs": [],
      "source": [
        "#dir(api)"
      ],
      "id": "0e197345"
    },
    {
      "cell_type": "code",
      "execution_count": 80,
      "metadata": {
        "colab": {
          "base_uri": "https://localhost:8080/",
          "height": 206
        },
        "id": "7b178247",
        "outputId": "512eb5b7-0a72-4f92-b2b8-83017fce728f"
      },
      "outputs": [
        {
          "output_type": "execute_result",
          "data": {
            "text/plain": [
              "                                               Tweet\n",
              "0  RT @feistywomankent: A reminder from June 2020...\n",
              "1  RT @Hepworthclare: Disgraceful behaviour from ...\n",
              "2  RT @rjcruthers: Woken by Nick Robinson (annual...\n",
              "3  ̗#Motivation 👍\\n\\n#acoty2022 #netizensreport #...\n",
              "4  RT @ApeBaffled: Tory PR man Nick Robinson on £..."
            ],
            "text/html": [
              "\n",
              "  <div id=\"df-931bb561-8391-46cd-a459-ac08f0d3dfda\">\n",
              "    <div class=\"colab-df-container\">\n",
              "      <div>\n",
              "<style scoped>\n",
              "    .dataframe tbody tr th:only-of-type {\n",
              "        vertical-align: middle;\n",
              "    }\n",
              "\n",
              "    .dataframe tbody tr th {\n",
              "        vertical-align: top;\n",
              "    }\n",
              "\n",
              "    .dataframe thead th {\n",
              "        text-align: right;\n",
              "    }\n",
              "</style>\n",
              "<table border=\"1\" class=\"dataframe\">\n",
              "  <thead>\n",
              "    <tr style=\"text-align: right;\">\n",
              "      <th></th>\n",
              "      <th>Tweet</th>\n",
              "    </tr>\n",
              "  </thead>\n",
              "  <tbody>\n",
              "    <tr>\n",
              "      <th>0</th>\n",
              "      <td>RT @feistywomankent: A reminder from June 2020...</td>\n",
              "    </tr>\n",
              "    <tr>\n",
              "      <th>1</th>\n",
              "      <td>RT @Hepworthclare: Disgraceful behaviour from ...</td>\n",
              "    </tr>\n",
              "    <tr>\n",
              "      <th>2</th>\n",
              "      <td>RT @rjcruthers: Woken by Nick Robinson (annual...</td>\n",
              "    </tr>\n",
              "    <tr>\n",
              "      <th>3</th>\n",
              "      <td>̗#Motivation 👍\\n\\n#acoty2022 #netizensreport #...</td>\n",
              "    </tr>\n",
              "    <tr>\n",
              "      <th>4</th>\n",
              "      <td>RT @ApeBaffled: Tory PR man Nick Robinson on £...</td>\n",
              "    </tr>\n",
              "  </tbody>\n",
              "</table>\n",
              "</div>\n",
              "      <button class=\"colab-df-convert\" onclick=\"convertToInteractive('df-931bb561-8391-46cd-a459-ac08f0d3dfda')\"\n",
              "              title=\"Convert this dataframe to an interactive table.\"\n",
              "              style=\"display:none;\">\n",
              "        \n",
              "  <svg xmlns=\"http://www.w3.org/2000/svg\" height=\"24px\"viewBox=\"0 0 24 24\"\n",
              "       width=\"24px\">\n",
              "    <path d=\"M0 0h24v24H0V0z\" fill=\"none\"/>\n",
              "    <path d=\"M18.56 5.44l.94 2.06.94-2.06 2.06-.94-2.06-.94-.94-2.06-.94 2.06-2.06.94zm-11 1L8.5 8.5l.94-2.06 2.06-.94-2.06-.94L8.5 2.5l-.94 2.06-2.06.94zm10 10l.94 2.06.94-2.06 2.06-.94-2.06-.94-.94-2.06-.94 2.06-2.06.94z\"/><path d=\"M17.41 7.96l-1.37-1.37c-.4-.4-.92-.59-1.43-.59-.52 0-1.04.2-1.43.59L10.3 9.45l-7.72 7.72c-.78.78-.78 2.05 0 2.83L4 21.41c.39.39.9.59 1.41.59.51 0 1.02-.2 1.41-.59l7.78-7.78 2.81-2.81c.8-.78.8-2.07 0-2.86zM5.41 20L4 18.59l7.72-7.72 1.47 1.35L5.41 20z\"/>\n",
              "  </svg>\n",
              "      </button>\n",
              "      \n",
              "  <style>\n",
              "    .colab-df-container {\n",
              "      display:flex;\n",
              "      flex-wrap:wrap;\n",
              "      gap: 12px;\n",
              "    }\n",
              "\n",
              "    .colab-df-convert {\n",
              "      background-color: #E8F0FE;\n",
              "      border: none;\n",
              "      border-radius: 50%;\n",
              "      cursor: pointer;\n",
              "      display: none;\n",
              "      fill: #1967D2;\n",
              "      height: 32px;\n",
              "      padding: 0 0 0 0;\n",
              "      width: 32px;\n",
              "    }\n",
              "\n",
              "    .colab-df-convert:hover {\n",
              "      background-color: #E2EBFA;\n",
              "      box-shadow: 0px 1px 2px rgba(60, 64, 67, 0.3), 0px 1px 3px 1px rgba(60, 64, 67, 0.15);\n",
              "      fill: #174EA6;\n",
              "    }\n",
              "\n",
              "    [theme=dark] .colab-df-convert {\n",
              "      background-color: #3B4455;\n",
              "      fill: #D2E3FC;\n",
              "    }\n",
              "\n",
              "    [theme=dark] .colab-df-convert:hover {\n",
              "      background-color: #434B5C;\n",
              "      box-shadow: 0px 1px 3px 1px rgba(0, 0, 0, 0.15);\n",
              "      filter: drop-shadow(0px 1px 2px rgba(0, 0, 0, 0.3));\n",
              "      fill: #FFFFFF;\n",
              "    }\n",
              "  </style>\n",
              "\n",
              "      <script>\n",
              "        const buttonEl =\n",
              "          document.querySelector('#df-931bb561-8391-46cd-a459-ac08f0d3dfda button.colab-df-convert');\n",
              "        buttonEl.style.display =\n",
              "          google.colab.kernel.accessAllowed ? 'block' : 'none';\n",
              "\n",
              "        async function convertToInteractive(key) {\n",
              "          const element = document.querySelector('#df-931bb561-8391-46cd-a459-ac08f0d3dfda');\n",
              "          const dataTable =\n",
              "            await google.colab.kernel.invokeFunction('convertToInteractive',\n",
              "                                                     [key], {});\n",
              "          if (!dataTable) return;\n",
              "\n",
              "          const docLinkHtml = 'Like what you see? Visit the ' +\n",
              "            '<a target=\"_blank\" href=https://colab.research.google.com/notebooks/data_table.ipynb>data table notebook</a>'\n",
              "            + ' to learn more about interactive tables.';\n",
              "          element.innerHTML = '';\n",
              "          dataTable['output_type'] = 'display_data';\n",
              "          await google.colab.output.renderOutput(dataTable, element);\n",
              "          const docLink = document.createElement('div');\n",
              "          docLink.innerHTML = docLinkHtml;\n",
              "          element.appendChild(docLink);\n",
              "        }\n",
              "      </script>\n",
              "    </div>\n",
              "  </div>\n",
              "  "
            ]
          },
          "metadata": {},
          "execution_count": 80
        }
      ],
      "source": [
        "# Convering the twitter data to a Dataframe\n",
        "df = pd.DataFrame(k)\n",
        "df.columns=['Tweet']\n",
        "df.head()"
      ],
      "id": "7b178247"
    },
    {
      "cell_type": "code",
      "execution_count": 81,
      "metadata": {
        "id": "4b742867"
      },
      "outputs": [],
      "source": [
        "# Removing the unnecessary characters from the data received from twitter\n",
        "df['Tweet'] = df['Tweet'].str.replace('RT', '1111', regex=True)\n",
        "df['Tweet'] = df['Tweet'].str.replace(' ', '1111', regex=True)\n",
        "df['Tweet'] = df['Tweet'].str.replace('\\W', '', regex=True)\n",
        "df['Tweet'] = df['Tweet'].str.replace('1111', ' ', regex=True)\n",
        "res = [idx for idx in df['Tweet'] if not re.findall(\"[^\\u0000-\\u05C0\\u2100-\\u214F]+\", idx)]\n",
        "\n",
        "res=pd.DataFrame(res)\n",
        "res.columns=['Tweet']"
      ],
      "id": "4b742867"
    },
    {
      "cell_type": "code",
      "execution_count": 82,
      "metadata": {
        "id": "7df40205"
      },
      "outputs": [],
      "source": [
        "# Making a copy of the dataset for future use\n",
        "copy=res"
      ],
      "id": "7df40205"
    },
    {
      "cell_type": "code",
      "execution_count": 83,
      "metadata": {
        "id": "d6K3EP7XRuHL"
      },
      "outputs": [],
      "source": [
        "# Applying the same  pre-processing on the twitter data as on the training dataset\n",
        "res['Tweet'] = res['Tweet'].str.lower()\n",
        "res['Tweet'] = res['Tweet'].apply(removeSpace)\n",
        "res['Tweet'] = res['Tweet'].apply(lambda x: word_tokenize(x))\n",
        "# res['tweet'] = res['tweet'].apply(rectifySpelling)\n",
        "res['Tweet'] = res['Tweet'].apply(removeWords)\n",
        "res['Tweet'] = res['Tweet'].apply(removePunctuation)\n",
        "#wordFreq = freqWords(res)\n",
        "#res['Tweet'] = res['Tweet'].apply(removeFreqWord)\n",
        "res['Tweet'] = res['Tweet'].apply(lemmatize)\n",
        "res['Tweet'] = res['Tweet'].apply(removeTag)\n",
        "res['Tweet'] = res['Tweet'].str.replace(r'http', '')"
      ],
      "id": "d6K3EP7XRuHL"
    },
    {
      "cell_type": "code",
      "execution_count": 84,
      "metadata": {
        "id": "3b7a273c"
      },
      "outputs": [],
      "source": [
        "# Transforming a text into a vector on the basis of the frequency of each word\n",
        "vect=res[\"Tweet\"]\n",
        "x_cv=cv.fit_transform(x)\n",
        "test_df = cv.transform(vect)"
      ],
      "id": "3b7a273c"
    },
    {
      "cell_type": "code",
      "source": [
        "res[\"Tweet\"]"
      ],
      "metadata": {
        "colab": {
          "base_uri": "https://localhost:8080/"
        },
        "id": "aibStXK9kCDf",
        "outputId": "984882f0-aaed-42bd-db7b-f48c24256921"
      },
      "id": "aibStXK9kCDf",
      "execution_count": 85,
      "outputs": [
        {
          "output_type": "execute_result",
          "data": {
            "text/plain": [
              "0     feistywomankent reminder june 2020 clap dont p...\n",
              "1     hepworthclare disgraceful behaviour nick robin...\n",
              "2     rjcruthers wake nick robinson annual salary 27...\n",
              "3     motivation acoty2022 netizensreport iranrevolu...\n",
              "4     apebaffled tory pr man nick robinson 275k quot...\n",
              "5     alechitchman 1economics income 200outgoings 19...\n",
              "6     the_chrisshaw strong interview bbcr4today rise...\n",
              "7     feistywomankent reminder june 2020 clap dont p...\n",
              "8     rjcruthers wake nick robinson annual salary 27...\n",
              "9     zoejardiniere story r4today misinform public r...\n",
              "10    candistore mick lynch speak amp woman like fee...\n",
              "11    feistywomankent reminder june 2020 clap dont p...\n",
              "12    tonydowling stand solidarity thercn nurse stri...\n",
              "13    tonypitchford perhaps nick robinson could save...\n",
              "14    stand_for_all year government push false infor...\n",
              "15    thesarahdriver nurse strike put patient risk w...\n",
              "16    themingford 12 year tory failure greed theft c...\n",
              "17    today cant join nursesstrike trust didnt meet ...\n",
              "18    feistywomankent reminder june 2020 clap dont p...\n",
              "19                 sueperkins nurse always nursesstrike\n",
              "20                                    nursesstrike fuck\n",
              "21    shaunlintern every 10 increase degree nurse re...\n",
              "22    manniequinn 1starmer need piss politics cant s...\n",
              "23    shelaghfogarty 1pm lbc want pay tribute zaraal...\n",
              "24    southwales_news weve leave choice kate strike ...\n",
              "25    themingford vulnerable disabled man need ft ca...\n",
              "26    themingford never forget loved one needlessly ...\n",
              "27    nurseborisbash vilification nurse reach full s...\n",
              "28    doctor_oxford vacancy rate among nh nurse engl...\n",
              "29    nurseborisbash vilification nurse reach full s...\n",
              "30    year 1have spending time santa morning thank s...\n",
              "31    year 1are spending time catch santa morning be...\n",
              "32    ffordddyffryn dosbarth siabod get ready live f...\n",
              "33    santaliveread big shout class 2 bempton primar...\n",
              "34    ststephensaud another question santa child ste...\n",
              "35    wilmot 111santaliveread great sing reception c...\n",
              "36    santaliveread big shout class 2 bempton primar...\n",
              "37    santaliveread please big shout class 2 bempton...\n",
              "38       thank st vincents primary school santaliveread\n",
              "39    santaliveread big shout class 2 bempton primar...\n",
              "40    monica_primary primaryliveuk please say massiv...\n",
              "41    thank santa byfleetprimary shoutout part santa...\n",
              "42    please say hello owl eagle class st monica pri...\n",
              "43    please say hello beech class malvern enjoy sin...\n",
              "Name: Tweet, dtype: object"
            ]
          },
          "metadata": {},
          "execution_count": 85
        }
      ]
    },
    {
      "cell_type": "code",
      "execution_count": 86,
      "metadata": {
        "colab": {
          "base_uri": "https://localhost:8080/"
        },
        "id": "499cd036",
        "outputId": "df7615b6-2d4b-4293-ae91-9e21428dd25f"
      },
      "outputs": [
        {
          "output_type": "stream",
          "name": "stdout",
          "text": [
            "(23353, 31651)\n",
            "(23353,)\n",
            "(44, 31651)\n"
          ]
        }
      ],
      "source": [
        "# Checking the shape of the training and testing dataset\n",
        "print(x_cv.shape)\n",
        "print(y.shape)\n",
        "print(test_df.shape)"
      ],
      "id": "499cd036"
    },
    {
      "cell_type": "code",
      "execution_count": 74,
      "metadata": {
        "id": "bcfb2790",
        "colab": {
          "base_uri": "https://localhost:8080/"
        },
        "outputId": "a7b98855-298b-48ce-e1fa-7306b9e74ab3"
      },
      "outputs": [
        {
          "output_type": "execute_result",
          "data": {
            "text/plain": [
              "VotingClassifier(estimators=[('logreg_best', LogisticRegression()),\n",
              "                             ('svc', SVC()), ('nb', MultinomialNB())])"
            ]
          },
          "metadata": {},
          "execution_count": 74
        }
      ],
      "source": [
        "# Training the entire dataset using Voting Classifier\n",
        "vc.fit(x_cv,y)"
      ],
      "id": "bcfb2790"
    },
    {
      "cell_type": "code",
      "execution_count": 87,
      "metadata": {
        "id": "5d5bf6e9"
      },
      "outputs": [],
      "source": [
        "# Predicting on the twitter dataset\n",
        "y_pred_tvc = vc.predict(test_df)\n",
        "df_y_pred=pd.DataFrame(y_pred_tvc)"
      ],
      "id": "5d5bf6e9"
    },
    {
      "cell_type": "code",
      "execution_count": 88,
      "metadata": {
        "id": "844b6d7b",
        "colab": {
          "base_uri": "https://localhost:8080/",
          "height": 1000
        },
        "outputId": "c44b900f-d0ff-45f2-b693-67df245bd695"
      },
      "outputs": [
        {
          "output_type": "execute_result",
          "data": {
            "text/plain": [
              "                                                Tweet  Label\n",
              "0   feistywomankent reminder june 2020 clap dont p...    0.0\n",
              "1   hepworthclare disgraceful behaviour nick robin...    0.0\n",
              "2   rjcruthers wake nick robinson annual salary 27...    0.0\n",
              "3   motivation acoty2022 netizensreport iranrevolu...    0.0\n",
              "4   apebaffled tory pr man nick robinson 275k quot...    0.0\n",
              "5   alechitchman 1economics income 200outgoings 19...    0.0\n",
              "6   the_chrisshaw strong interview bbcr4today rise...    0.0\n",
              "7   feistywomankent reminder june 2020 clap dont p...    0.0\n",
              "8   rjcruthers wake nick robinson annual salary 27...    0.0\n",
              "9   zoejardiniere story r4today misinform public r...    0.0\n",
              "10  candistore mick lynch speak amp woman like fee...    0.0\n",
              "11  feistywomankent reminder june 2020 clap dont p...    0.0\n",
              "12  tonydowling stand solidarity thercn nurse stri...    0.0\n",
              "13  tonypitchford perhaps nick robinson could save...    0.0\n",
              "14  stand_for_all year government push false infor...    0.0\n",
              "15  thesarahdriver nurse strike put patient risk w...    0.0\n",
              "16  themingford 12 year tory failure greed theft c...    0.0\n",
              "17  today cant join nursesstrike trust didnt meet ...    0.0\n",
              "18  feistywomankent reminder june 2020 clap dont p...    0.0\n",
              "19               sueperkins nurse always nursesstrike    0.0\n",
              "20                                  nursesstrike fuck    1.0\n",
              "21  shaunlintern every 10 increase degree nurse re...    0.0\n",
              "22  manniequinn 1starmer need piss politics cant s...    1.0\n",
              "23  shelaghfogarty 1pm lbc want pay tribute zaraal...    0.0\n",
              "24  southwales_news weve leave choice kate strike ...    0.0\n",
              "25  themingford vulnerable disabled man need ft ca...    0.0\n",
              "26  themingford never forget loved one needlessly ...    1.0\n",
              "27  nurseborisbash vilification nurse reach full s...    1.0\n",
              "28  doctor_oxford vacancy rate among nh nurse engl...    0.0\n",
              "29  nurseborisbash vilification nurse reach full s...    1.0\n",
              "30  year 1have spending time santa morning thank s...    0.0\n",
              "31  year 1are spending time catch santa morning be...    0.0\n",
              "32  ffordddyffryn dosbarth siabod get ready live f...    0.0\n",
              "33  santaliveread big shout class 2 bempton primar...    0.0\n",
              "34  ststephensaud another question santa child ste...    0.0\n",
              "35  wilmot 111santaliveread great sing reception c...    0.0\n",
              "36  santaliveread big shout class 2 bempton primar...    0.0\n",
              "37  santaliveread please big shout class 2 bempton...    0.0\n",
              "38     thank st vincents primary school santaliveread    0.0\n",
              "39  santaliveread big shout class 2 bempton primar...    0.0\n",
              "40  monica_primary primaryliveuk please say massiv...    0.0\n",
              "41  thank santa byfleetprimary shoutout part santa...    0.0\n",
              "42  please say hello owl eagle class st monica pri...    0.0\n",
              "43  please say hello beech class malvern enjoy sin...    0.0"
            ],
            "text/html": [
              "\n",
              "  <div id=\"df-eee10744-fc2e-472c-93ed-1917817042a1\">\n",
              "    <div class=\"colab-df-container\">\n",
              "      <div>\n",
              "<style scoped>\n",
              "    .dataframe tbody tr th:only-of-type {\n",
              "        vertical-align: middle;\n",
              "    }\n",
              "\n",
              "    .dataframe tbody tr th {\n",
              "        vertical-align: top;\n",
              "    }\n",
              "\n",
              "    .dataframe thead th {\n",
              "        text-align: right;\n",
              "    }\n",
              "</style>\n",
              "<table border=\"1\" class=\"dataframe\">\n",
              "  <thead>\n",
              "    <tr style=\"text-align: right;\">\n",
              "      <th></th>\n",
              "      <th>Tweet</th>\n",
              "      <th>Label</th>\n",
              "    </tr>\n",
              "  </thead>\n",
              "  <tbody>\n",
              "    <tr>\n",
              "      <th>0</th>\n",
              "      <td>feistywomankent reminder june 2020 clap dont p...</td>\n",
              "      <td>0.0</td>\n",
              "    </tr>\n",
              "    <tr>\n",
              "      <th>1</th>\n",
              "      <td>hepworthclare disgraceful behaviour nick robin...</td>\n",
              "      <td>0.0</td>\n",
              "    </tr>\n",
              "    <tr>\n",
              "      <th>2</th>\n",
              "      <td>rjcruthers wake nick robinson annual salary 27...</td>\n",
              "      <td>0.0</td>\n",
              "    </tr>\n",
              "    <tr>\n",
              "      <th>3</th>\n",
              "      <td>motivation acoty2022 netizensreport iranrevolu...</td>\n",
              "      <td>0.0</td>\n",
              "    </tr>\n",
              "    <tr>\n",
              "      <th>4</th>\n",
              "      <td>apebaffled tory pr man nick robinson 275k quot...</td>\n",
              "      <td>0.0</td>\n",
              "    </tr>\n",
              "    <tr>\n",
              "      <th>5</th>\n",
              "      <td>alechitchman 1economics income 200outgoings 19...</td>\n",
              "      <td>0.0</td>\n",
              "    </tr>\n",
              "    <tr>\n",
              "      <th>6</th>\n",
              "      <td>the_chrisshaw strong interview bbcr4today rise...</td>\n",
              "      <td>0.0</td>\n",
              "    </tr>\n",
              "    <tr>\n",
              "      <th>7</th>\n",
              "      <td>feistywomankent reminder june 2020 clap dont p...</td>\n",
              "      <td>0.0</td>\n",
              "    </tr>\n",
              "    <tr>\n",
              "      <th>8</th>\n",
              "      <td>rjcruthers wake nick robinson annual salary 27...</td>\n",
              "      <td>0.0</td>\n",
              "    </tr>\n",
              "    <tr>\n",
              "      <th>9</th>\n",
              "      <td>zoejardiniere story r4today misinform public r...</td>\n",
              "      <td>0.0</td>\n",
              "    </tr>\n",
              "    <tr>\n",
              "      <th>10</th>\n",
              "      <td>candistore mick lynch speak amp woman like fee...</td>\n",
              "      <td>0.0</td>\n",
              "    </tr>\n",
              "    <tr>\n",
              "      <th>11</th>\n",
              "      <td>feistywomankent reminder june 2020 clap dont p...</td>\n",
              "      <td>0.0</td>\n",
              "    </tr>\n",
              "    <tr>\n",
              "      <th>12</th>\n",
              "      <td>tonydowling stand solidarity thercn nurse stri...</td>\n",
              "      <td>0.0</td>\n",
              "    </tr>\n",
              "    <tr>\n",
              "      <th>13</th>\n",
              "      <td>tonypitchford perhaps nick robinson could save...</td>\n",
              "      <td>0.0</td>\n",
              "    </tr>\n",
              "    <tr>\n",
              "      <th>14</th>\n",
              "      <td>stand_for_all year government push false infor...</td>\n",
              "      <td>0.0</td>\n",
              "    </tr>\n",
              "    <tr>\n",
              "      <th>15</th>\n",
              "      <td>thesarahdriver nurse strike put patient risk w...</td>\n",
              "      <td>0.0</td>\n",
              "    </tr>\n",
              "    <tr>\n",
              "      <th>16</th>\n",
              "      <td>themingford 12 year tory failure greed theft c...</td>\n",
              "      <td>0.0</td>\n",
              "    </tr>\n",
              "    <tr>\n",
              "      <th>17</th>\n",
              "      <td>today cant join nursesstrike trust didnt meet ...</td>\n",
              "      <td>0.0</td>\n",
              "    </tr>\n",
              "    <tr>\n",
              "      <th>18</th>\n",
              "      <td>feistywomankent reminder june 2020 clap dont p...</td>\n",
              "      <td>0.0</td>\n",
              "    </tr>\n",
              "    <tr>\n",
              "      <th>19</th>\n",
              "      <td>sueperkins nurse always nursesstrike</td>\n",
              "      <td>0.0</td>\n",
              "    </tr>\n",
              "    <tr>\n",
              "      <th>20</th>\n",
              "      <td>nursesstrike fuck</td>\n",
              "      <td>1.0</td>\n",
              "    </tr>\n",
              "    <tr>\n",
              "      <th>21</th>\n",
              "      <td>shaunlintern every 10 increase degree nurse re...</td>\n",
              "      <td>0.0</td>\n",
              "    </tr>\n",
              "    <tr>\n",
              "      <th>22</th>\n",
              "      <td>manniequinn 1starmer need piss politics cant s...</td>\n",
              "      <td>1.0</td>\n",
              "    </tr>\n",
              "    <tr>\n",
              "      <th>23</th>\n",
              "      <td>shelaghfogarty 1pm lbc want pay tribute zaraal...</td>\n",
              "      <td>0.0</td>\n",
              "    </tr>\n",
              "    <tr>\n",
              "      <th>24</th>\n",
              "      <td>southwales_news weve leave choice kate strike ...</td>\n",
              "      <td>0.0</td>\n",
              "    </tr>\n",
              "    <tr>\n",
              "      <th>25</th>\n",
              "      <td>themingford vulnerable disabled man need ft ca...</td>\n",
              "      <td>0.0</td>\n",
              "    </tr>\n",
              "    <tr>\n",
              "      <th>26</th>\n",
              "      <td>themingford never forget loved one needlessly ...</td>\n",
              "      <td>1.0</td>\n",
              "    </tr>\n",
              "    <tr>\n",
              "      <th>27</th>\n",
              "      <td>nurseborisbash vilification nurse reach full s...</td>\n",
              "      <td>1.0</td>\n",
              "    </tr>\n",
              "    <tr>\n",
              "      <th>28</th>\n",
              "      <td>doctor_oxford vacancy rate among nh nurse engl...</td>\n",
              "      <td>0.0</td>\n",
              "    </tr>\n",
              "    <tr>\n",
              "      <th>29</th>\n",
              "      <td>nurseborisbash vilification nurse reach full s...</td>\n",
              "      <td>1.0</td>\n",
              "    </tr>\n",
              "    <tr>\n",
              "      <th>30</th>\n",
              "      <td>year 1have spending time santa morning thank s...</td>\n",
              "      <td>0.0</td>\n",
              "    </tr>\n",
              "    <tr>\n",
              "      <th>31</th>\n",
              "      <td>year 1are spending time catch santa morning be...</td>\n",
              "      <td>0.0</td>\n",
              "    </tr>\n",
              "    <tr>\n",
              "      <th>32</th>\n",
              "      <td>ffordddyffryn dosbarth siabod get ready live f...</td>\n",
              "      <td>0.0</td>\n",
              "    </tr>\n",
              "    <tr>\n",
              "      <th>33</th>\n",
              "      <td>santaliveread big shout class 2 bempton primar...</td>\n",
              "      <td>0.0</td>\n",
              "    </tr>\n",
              "    <tr>\n",
              "      <th>34</th>\n",
              "      <td>ststephensaud another question santa child ste...</td>\n",
              "      <td>0.0</td>\n",
              "    </tr>\n",
              "    <tr>\n",
              "      <th>35</th>\n",
              "      <td>wilmot 111santaliveread great sing reception c...</td>\n",
              "      <td>0.0</td>\n",
              "    </tr>\n",
              "    <tr>\n",
              "      <th>36</th>\n",
              "      <td>santaliveread big shout class 2 bempton primar...</td>\n",
              "      <td>0.0</td>\n",
              "    </tr>\n",
              "    <tr>\n",
              "      <th>37</th>\n",
              "      <td>santaliveread please big shout class 2 bempton...</td>\n",
              "      <td>0.0</td>\n",
              "    </tr>\n",
              "    <tr>\n",
              "      <th>38</th>\n",
              "      <td>thank st vincents primary school santaliveread</td>\n",
              "      <td>0.0</td>\n",
              "    </tr>\n",
              "    <tr>\n",
              "      <th>39</th>\n",
              "      <td>santaliveread big shout class 2 bempton primar...</td>\n",
              "      <td>0.0</td>\n",
              "    </tr>\n",
              "    <tr>\n",
              "      <th>40</th>\n",
              "      <td>monica_primary primaryliveuk please say massiv...</td>\n",
              "      <td>0.0</td>\n",
              "    </tr>\n",
              "    <tr>\n",
              "      <th>41</th>\n",
              "      <td>thank santa byfleetprimary shoutout part santa...</td>\n",
              "      <td>0.0</td>\n",
              "    </tr>\n",
              "    <tr>\n",
              "      <th>42</th>\n",
              "      <td>please say hello owl eagle class st monica pri...</td>\n",
              "      <td>0.0</td>\n",
              "    </tr>\n",
              "    <tr>\n",
              "      <th>43</th>\n",
              "      <td>please say hello beech class malvern enjoy sin...</td>\n",
              "      <td>0.0</td>\n",
              "    </tr>\n",
              "  </tbody>\n",
              "</table>\n",
              "</div>\n",
              "      <button class=\"colab-df-convert\" onclick=\"convertToInteractive('df-eee10744-fc2e-472c-93ed-1917817042a1')\"\n",
              "              title=\"Convert this dataframe to an interactive table.\"\n",
              "              style=\"display:none;\">\n",
              "        \n",
              "  <svg xmlns=\"http://www.w3.org/2000/svg\" height=\"24px\"viewBox=\"0 0 24 24\"\n",
              "       width=\"24px\">\n",
              "    <path d=\"M0 0h24v24H0V0z\" fill=\"none\"/>\n",
              "    <path d=\"M18.56 5.44l.94 2.06.94-2.06 2.06-.94-2.06-.94-.94-2.06-.94 2.06-2.06.94zm-11 1L8.5 8.5l.94-2.06 2.06-.94-2.06-.94L8.5 2.5l-.94 2.06-2.06.94zm10 10l.94 2.06.94-2.06 2.06-.94-2.06-.94-.94-2.06-.94 2.06-2.06.94z\"/><path d=\"M17.41 7.96l-1.37-1.37c-.4-.4-.92-.59-1.43-.59-.52 0-1.04.2-1.43.59L10.3 9.45l-7.72 7.72c-.78.78-.78 2.05 0 2.83L4 21.41c.39.39.9.59 1.41.59.51 0 1.02-.2 1.41-.59l7.78-7.78 2.81-2.81c.8-.78.8-2.07 0-2.86zM5.41 20L4 18.59l7.72-7.72 1.47 1.35L5.41 20z\"/>\n",
              "  </svg>\n",
              "      </button>\n",
              "      \n",
              "  <style>\n",
              "    .colab-df-container {\n",
              "      display:flex;\n",
              "      flex-wrap:wrap;\n",
              "      gap: 12px;\n",
              "    }\n",
              "\n",
              "    .colab-df-convert {\n",
              "      background-color: #E8F0FE;\n",
              "      border: none;\n",
              "      border-radius: 50%;\n",
              "      cursor: pointer;\n",
              "      display: none;\n",
              "      fill: #1967D2;\n",
              "      height: 32px;\n",
              "      padding: 0 0 0 0;\n",
              "      width: 32px;\n",
              "    }\n",
              "\n",
              "    .colab-df-convert:hover {\n",
              "      background-color: #E2EBFA;\n",
              "      box-shadow: 0px 1px 2px rgba(60, 64, 67, 0.3), 0px 1px 3px 1px rgba(60, 64, 67, 0.15);\n",
              "      fill: #174EA6;\n",
              "    }\n",
              "\n",
              "    [theme=dark] .colab-df-convert {\n",
              "      background-color: #3B4455;\n",
              "      fill: #D2E3FC;\n",
              "    }\n",
              "\n",
              "    [theme=dark] .colab-df-convert:hover {\n",
              "      background-color: #434B5C;\n",
              "      box-shadow: 0px 1px 3px 1px rgba(0, 0, 0, 0.15);\n",
              "      filter: drop-shadow(0px 1px 2px rgba(0, 0, 0, 0.3));\n",
              "      fill: #FFFFFF;\n",
              "    }\n",
              "  </style>\n",
              "\n",
              "      <script>\n",
              "        const buttonEl =\n",
              "          document.querySelector('#df-eee10744-fc2e-472c-93ed-1917817042a1 button.colab-df-convert');\n",
              "        buttonEl.style.display =\n",
              "          google.colab.kernel.accessAllowed ? 'block' : 'none';\n",
              "\n",
              "        async function convertToInteractive(key) {\n",
              "          const element = document.querySelector('#df-eee10744-fc2e-472c-93ed-1917817042a1');\n",
              "          const dataTable =\n",
              "            await google.colab.kernel.invokeFunction('convertToInteractive',\n",
              "                                                     [key], {});\n",
              "          if (!dataTable) return;\n",
              "\n",
              "          const docLinkHtml = 'Like what you see? Visit the ' +\n",
              "            '<a target=\"_blank\" href=https://colab.research.google.com/notebooks/data_table.ipynb>data table notebook</a>'\n",
              "            + ' to learn more about interactive tables.';\n",
              "          element.innerHTML = '';\n",
              "          dataTable['output_type'] = 'display_data';\n",
              "          await google.colab.output.renderOutput(dataTable, element);\n",
              "          const docLink = document.createElement('div');\n",
              "          docLink.innerHTML = docLinkHtml;\n",
              "          element.appendChild(docLink);\n",
              "        }\n",
              "      </script>\n",
              "    </div>\n",
              "  </div>\n",
              "  "
            ]
          },
          "metadata": {},
          "execution_count": 88
        }
      ],
      "source": [
        "# Concatenating the predicted values with the original twitter data for better visualization\n",
        "result = pd.concat([copy['Tweet'], df_y_pred], axis=1)\n",
        "result.columns=['Tweet','Label']\n",
        "result"
      ],
      "id": "844b6d7b"
    },
    {
      "cell_type": "code",
      "execution_count": 95,
      "metadata": {
        "id": "5d2c0ac0"
      },
      "outputs": [],
      "source": [
        "import numpy as np\n",
        "a=[\"This is a sunny morning\",\n",
        "\"Shut the fuck up\",\n",
        "\"Bonjour\",\n",
        "\"You have a very ugly face.\",\n",
        "\"Dont be a jerk\",\n",
        "\"You asshole\",\n",
        "\"Happy morning\",\n",
        "\"Bloody bastard\",\n",
        "\"Astala vista\"]\n",
        "data = np.array(a)\n",
        " \n",
        "\n",
        "# a=pd.DataFrame(a)\n",
        "test_df = cv.transform(a)\n",
        "y_pred_t = vc.predict(test_df)"
      ],
      "id": "5d2c0ac0"
    },
    {
      "cell_type": "code",
      "execution_count": 96,
      "metadata": {
        "id": "6c8fad7a",
        "colab": {
          "base_uri": "https://localhost:8080/",
          "height": 332
        },
        "outputId": "86292627-8015-4f74-c02b-ffb4ff28b824"
      },
      "outputs": [
        {
          "output_type": "execute_result",
          "data": {
            "text/plain": [
              "                            0    0\n",
              "0     This is a sunny morning  0.0\n",
              "1            Shut the fuck up  1.0\n",
              "2                     Bonjour  0.0\n",
              "3  You have a very ugly face.  1.0\n",
              "4              Dont be a jerk  0.0\n",
              "5                 You asshole  1.0\n",
              "6               Happy morning  0.0\n",
              "7              Bloody bastard  1.0\n",
              "8                Astala vista  0.0"
            ],
            "text/html": [
              "\n",
              "  <div id=\"df-a9029597-44f9-4251-934b-4f77affa7a86\">\n",
              "    <div class=\"colab-df-container\">\n",
              "      <div>\n",
              "<style scoped>\n",
              "    .dataframe tbody tr th:only-of-type {\n",
              "        vertical-align: middle;\n",
              "    }\n",
              "\n",
              "    .dataframe tbody tr th {\n",
              "        vertical-align: top;\n",
              "    }\n",
              "\n",
              "    .dataframe thead th {\n",
              "        text-align: right;\n",
              "    }\n",
              "</style>\n",
              "<table border=\"1\" class=\"dataframe\">\n",
              "  <thead>\n",
              "    <tr style=\"text-align: right;\">\n",
              "      <th></th>\n",
              "      <th>0</th>\n",
              "      <th>0</th>\n",
              "    </tr>\n",
              "  </thead>\n",
              "  <tbody>\n",
              "    <tr>\n",
              "      <th>0</th>\n",
              "      <td>This is a sunny morning</td>\n",
              "      <td>0.0</td>\n",
              "    </tr>\n",
              "    <tr>\n",
              "      <th>1</th>\n",
              "      <td>Shut the fuck up</td>\n",
              "      <td>1.0</td>\n",
              "    </tr>\n",
              "    <tr>\n",
              "      <th>2</th>\n",
              "      <td>Bonjour</td>\n",
              "      <td>0.0</td>\n",
              "    </tr>\n",
              "    <tr>\n",
              "      <th>3</th>\n",
              "      <td>You have a very ugly face.</td>\n",
              "      <td>1.0</td>\n",
              "    </tr>\n",
              "    <tr>\n",
              "      <th>4</th>\n",
              "      <td>Dont be a jerk</td>\n",
              "      <td>0.0</td>\n",
              "    </tr>\n",
              "    <tr>\n",
              "      <th>5</th>\n",
              "      <td>You asshole</td>\n",
              "      <td>1.0</td>\n",
              "    </tr>\n",
              "    <tr>\n",
              "      <th>6</th>\n",
              "      <td>Happy morning</td>\n",
              "      <td>0.0</td>\n",
              "    </tr>\n",
              "    <tr>\n",
              "      <th>7</th>\n",
              "      <td>Bloody bastard</td>\n",
              "      <td>1.0</td>\n",
              "    </tr>\n",
              "    <tr>\n",
              "      <th>8</th>\n",
              "      <td>Astala vista</td>\n",
              "      <td>0.0</td>\n",
              "    </tr>\n",
              "  </tbody>\n",
              "</table>\n",
              "</div>\n",
              "      <button class=\"colab-df-convert\" onclick=\"convertToInteractive('df-a9029597-44f9-4251-934b-4f77affa7a86')\"\n",
              "              title=\"Convert this dataframe to an interactive table.\"\n",
              "              style=\"display:none;\">\n",
              "        \n",
              "  <svg xmlns=\"http://www.w3.org/2000/svg\" height=\"24px\"viewBox=\"0 0 24 24\"\n",
              "       width=\"24px\">\n",
              "    <path d=\"M0 0h24v24H0V0z\" fill=\"none\"/>\n",
              "    <path d=\"M18.56 5.44l.94 2.06.94-2.06 2.06-.94-2.06-.94-.94-2.06-.94 2.06-2.06.94zm-11 1L8.5 8.5l.94-2.06 2.06-.94-2.06-.94L8.5 2.5l-.94 2.06-2.06.94zm10 10l.94 2.06.94-2.06 2.06-.94-2.06-.94-.94-2.06-.94 2.06-2.06.94z\"/><path d=\"M17.41 7.96l-1.37-1.37c-.4-.4-.92-.59-1.43-.59-.52 0-1.04.2-1.43.59L10.3 9.45l-7.72 7.72c-.78.78-.78 2.05 0 2.83L4 21.41c.39.39.9.59 1.41.59.51 0 1.02-.2 1.41-.59l7.78-7.78 2.81-2.81c.8-.78.8-2.07 0-2.86zM5.41 20L4 18.59l7.72-7.72 1.47 1.35L5.41 20z\"/>\n",
              "  </svg>\n",
              "      </button>\n",
              "      \n",
              "  <style>\n",
              "    .colab-df-container {\n",
              "      display:flex;\n",
              "      flex-wrap:wrap;\n",
              "      gap: 12px;\n",
              "    }\n",
              "\n",
              "    .colab-df-convert {\n",
              "      background-color: #E8F0FE;\n",
              "      border: none;\n",
              "      border-radius: 50%;\n",
              "      cursor: pointer;\n",
              "      display: none;\n",
              "      fill: #1967D2;\n",
              "      height: 32px;\n",
              "      padding: 0 0 0 0;\n",
              "      width: 32px;\n",
              "    }\n",
              "\n",
              "    .colab-df-convert:hover {\n",
              "      background-color: #E2EBFA;\n",
              "      box-shadow: 0px 1px 2px rgba(60, 64, 67, 0.3), 0px 1px 3px 1px rgba(60, 64, 67, 0.15);\n",
              "      fill: #174EA6;\n",
              "    }\n",
              "\n",
              "    [theme=dark] .colab-df-convert {\n",
              "      background-color: #3B4455;\n",
              "      fill: #D2E3FC;\n",
              "    }\n",
              "\n",
              "    [theme=dark] .colab-df-convert:hover {\n",
              "      background-color: #434B5C;\n",
              "      box-shadow: 0px 1px 3px 1px rgba(0, 0, 0, 0.15);\n",
              "      filter: drop-shadow(0px 1px 2px rgba(0, 0, 0, 0.3));\n",
              "      fill: #FFFFFF;\n",
              "    }\n",
              "  </style>\n",
              "\n",
              "      <script>\n",
              "        const buttonEl =\n",
              "          document.querySelector('#df-a9029597-44f9-4251-934b-4f77affa7a86 button.colab-df-convert');\n",
              "        buttonEl.style.display =\n",
              "          google.colab.kernel.accessAllowed ? 'block' : 'none';\n",
              "\n",
              "        async function convertToInteractive(key) {\n",
              "          const element = document.querySelector('#df-a9029597-44f9-4251-934b-4f77affa7a86');\n",
              "          const dataTable =\n",
              "            await google.colab.kernel.invokeFunction('convertToInteractive',\n",
              "                                                     [key], {});\n",
              "          if (!dataTable) return;\n",
              "\n",
              "          const docLinkHtml = 'Like what you see? Visit the ' +\n",
              "            '<a target=\"_blank\" href=https://colab.research.google.com/notebooks/data_table.ipynb>data table notebook</a>'\n",
              "            + ' to learn more about interactive tables.';\n",
              "          element.innerHTML = '';\n",
              "          dataTable['output_type'] = 'display_data';\n",
              "          await google.colab.output.renderOutput(dataTable, element);\n",
              "          const docLink = document.createElement('div');\n",
              "          docLink.innerHTML = docLinkHtml;\n",
              "          element.appendChild(docLink);\n",
              "        }\n",
              "      </script>\n",
              "    </div>\n",
              "  </div>\n",
              "  "
            ]
          },
          "metadata": {},
          "execution_count": 96
        }
      ],
      "source": [
        "a1=pd.DataFrame(a)\n",
        "y_pred_t=pd.DataFrame(y_pred_t)\n",
        "result1 = pd.concat([a1, y_pred_t], axis=1)\n",
        "result1"
      ],
      "id": "6c8fad7a"
    },
    {
      "cell_type": "code",
      "execution_count": 93,
      "metadata": {
        "colab": {
          "base_uri": "https://localhost:8080/",
          "height": 35
        },
        "id": "a3d19abc",
        "outputId": "9ec36500-a2b3-4a69-fe8f-dcf45351cf69"
      },
      "outputs": [
        {
          "output_type": "execute_result",
          "data": {
            "text/plain": [
              "'ffordddyffryn dosbarth siabod get ready live feed santa north pole christmasclassic santaliveread stc'"
            ],
            "application/vnd.google.colaboratory.intrinsic+json": {
              "type": "string"
            }
          },
          "metadata": {},
          "execution_count": 93
        }
      ],
      "source": [
        "result['Tweet'][32]"
      ],
      "id": "a3d19abc"
    },
    {
      "cell_type": "code",
      "execution_count": 94,
      "metadata": {
        "colab": {
          "base_uri": "https://localhost:8080/",
          "height": 35
        },
        "id": "ea0e9e5c",
        "outputId": "0e93059e-0eb4-444b-9082-0cff17b17e34"
      },
      "outputs": [
        {
          "output_type": "execute_result",
          "data": {
            "text/plain": [
              "'themingford never forget loved one needlessly lose ghoul picture nurse love riski'"
            ],
            "application/vnd.google.colaboratory.intrinsic+json": {
              "type": "string"
            }
          },
          "metadata": {},
          "execution_count": 94
        }
      ],
      "source": [
        "result['Tweet'][26]"
      ],
      "id": "ea0e9e5c"
    },
    {
      "cell_type": "code",
      "execution_count": 64,
      "metadata": {
        "id": "73037574"
      },
      "outputs": [],
      "source": [
        "# for tweeti in tweepy.Cursor(api.search, q='#RIPTwitch').items(20):\n",
        "#         print(tweeti.text)\n",
        "#         print(\"_____\")"
      ],
      "id": "73037574"
    },
    {
      "cell_type": "code",
      "execution_count": 65,
      "metadata": {
        "id": "c6236eba"
      },
      "outputs": [],
      "source": [
        "# cursor = tweepy.Cursor(api.user_timeline,id='@sbravo1999',tweet_mode=\"extended\").items()\n",
        "# for i in cursor:\n",
        "#   print(i.full_text)"
      ],
      "id": "c6236eba"
    },
    {
      "cell_type": "code",
      "execution_count": 65,
      "metadata": {
        "id": "5d7fbca4"
      },
      "outputs": [],
      "source": [],
      "id": "5d7fbca4"
    },
    {
      "cell_type": "code",
      "execution_count": 65,
      "metadata": {
        "id": "2e42c131"
      },
      "outputs": [],
      "source": [],
      "id": "2e42c131"
    },
    {
      "cell_type": "code",
      "execution_count": 65,
      "metadata": {
        "id": "139e4c82"
      },
      "outputs": [],
      "source": [],
      "id": "139e4c82"
    }
  ],
  "metadata": {
    "colab": {
      "provenance": []
    },
    "kernelspec": {
      "display_name": "Python 3 (ipykernel)",
      "language": "python",
      "name": "python3"
    },
    "language_info": {
      "codemirror_mode": {
        "name": "ipython",
        "version": 3
      },
      "file_extension": ".py",
      "mimetype": "text/x-python",
      "name": "python",
      "nbconvert_exporter": "python",
      "pygments_lexer": "ipython3",
      "version": "3.9.12"
    }
  },
  "nbformat": 4,
  "nbformat_minor": 5
}